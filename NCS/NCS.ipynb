{
 "cells": [
  {
   "cell_type": "code",
   "execution_count": 1,
   "metadata": {},
   "outputs": [
    {
     "data": {
      "text/plain": [
       "'\\n    A compilation of the theory that I learned during my NCS course.\\n    This is not a homework. I made this for my own training and understanding.\\n    Due to limited time and effort. Some exercises has been opted out.\\n'"
      ]
     },
     "execution_count": 1,
     "metadata": {},
     "output_type": "execute_result"
    }
   ],
   "source": [
    "from sympy.interactive import printing\n",
    "printing.init_printing(use_latex=True)\n",
    "from sympy import Eq, solve_linear_system, Matrix, Function\n",
    "from copy import deepcopy\n",
    "import numpy as np\n",
    "import sympy as sp\n",
    "\n",
    "\"\"\"\n",
    "    A compilation of the theory that I learned during my NCS course.\n",
    "    This is not a homework. I made this for my own training and understanding.\n",
    "    Due to limited time and effort. Some exercises has been opted out.\n",
    "\"\"\""
   ]
  },
  {
   "cell_type": "code",
   "execution_count": 2,
   "metadata": {},
   "outputs": [],
   "source": [
    "def get_math_operator(s:str, inverse=False):\n",
    "    \"\"\" Need more operators! \"\"\"\n",
    "    if inverse:\n",
    "        s = s.replace('+', '-').replace('*', '/')\n",
    "    arr = []\n",
    "    s = s.replace(\" \", \"\")\n",
    "    for i in range(len(s)):\n",
    "        if s[i] in ['*', '+', '/', '-']:\n",
    "            arr.append(s[i])\n",
    "    return arr\n",
    "\n",
    "def evaluate_op(x, y, op: str):\n",
    "    if op == '*':\n",
    "        x *= y\n",
    "    elif op == '+':\n",
    "        x += y\n",
    "    elif op == '-':\n",
    "        x -= y\n",
    "    elif op == '/':\n",
    "        x /= y\n",
    "    return x\n",
    "\n",
    "def sort_states(states):\n",
    "    n = len(states)\n",
    "    st = [0 for i in range(n)]\n",
    "    ind = np.array([int(str(i).replace(str(i)[0],\"\")) for i in states])\n",
    "    if max(ind)>len(ind):\n",
    "        ind -= (max(ind)-len(ind))\n",
    "    for i, val in enumerate(states):\n",
    "        st[ind[i]-1] = val\n",
    "    return st\n",
    "\n",
    "def diff_t(f, expressions):\n",
    "    f.free_symbols  # Get variables\n",
    "    df = \"\"\n",
    "    for i in f.free_symbols:\n",
    "        deriv = str(sp.diff(f, i)) + '*'\n",
    "        if '1.0*' in deriv:\n",
    "            deriv = deriv.replace('1.0*', '')\n",
    "        elif '1*' in deriv:\n",
    "            deriv = deriv.replace('1*', '')\n",
    "        i_d = deriv + str(i) + 'd'\n",
    "        df += i_d+\"+\"\n",
    "    df = df[0:-1]  # Remove excess operator\n",
    "    \n",
    "    ## Get operators and variables from String\n",
    "    Vd_operator = get_math_operator(df)\n",
    "    Vd_variable = df.replace('+', '*').replace('-', '*').split('*')\n",
    "    \n",
    "    ## Get math operator priority\n",
    "    hp = []  # High priority\n",
    "    lp = []\n",
    "    for i, val in enumerate(Vd_operator):\n",
    "        if val in ['*', '/']:\n",
    "            hp.append(i)\n",
    "        elif val in ['+', '-']:\n",
    "            lp.append(i)\n",
    "\n",
    "    ## Change df from str to sym\n",
    "    if lp == []:\n",
    "        Vd_new = [expressions[str(df)]]\n",
    "    else:\n",
    "        # Get multiplication/division syms\n",
    "        Vd_multi = []\n",
    "        Vd_new = []\n",
    "        i = 0\n",
    "        for i in hp:\n",
    "            var1 = expressions[Vd_variable[i]]\n",
    "            var2 = expressions[Vd_variable[i+1]]\n",
    "            Vd_multi.append(evaluate_op(var1, var2, Vd_operator[i]))\n",
    "        # Add/substract syms\n",
    "        for i, val in enumerate(lp):\n",
    "            if Vd_multi == []:\n",
    "                var1 = expressions[Vd_variable[i]]\n",
    "                var2 = expressions[Vd_variable[i+1]]\n",
    "            else:\n",
    "                var1 = Vd_multi[i]\n",
    "                var2 = Vd_multi[i+1]\n",
    "            Vd_new.append(evaluate_op(var1, var2, Vd_operator[val]))\n",
    "            \n",
    "    df = sp.factor(Vd_new[0])\n",
    "    return df\n",
    "\n",
    "def get_sym_dict(Xd):\n",
    "    n = len(Xd)\n",
    "    g = Matrix([Xd[i].coeff(u) for i in range(n)])\n",
    "    f = Xd - g*u\n",
    "    states = sort_states(f.free_symbols)\n",
    "    sym_dict = {f\"x{i+1}d\":Xd[i] for i in range(len(Xd))}\n",
    "    sym_dict.update({f\"x{i+1}\":val for i, val in enumerate(states)})\n",
    "    return sym_dict\n",
    "\n",
    "def evaluate_eigenvalue(w):\n",
    "    print(f\"Eigenvalues are: {w}\")\n",
    "    complex = (np.iscomplex(w)).all()\n",
    "    if (np.real(w) < 0).all():\n",
    "        if not complex:\n",
    "            print(\"System is stable\")\n",
    "        else:\n",
    "            print(\"System is stable focus\")\n",
    "    elif (np.real(w) > 0).all():\n",
    "        print(\"System is unstable\")\n",
    "    elif (np.real(w) == 0).all():\n",
    "        print(\"Eigenvalue is pure imaginary, stability analysis not possible for nonlinear systems!\")\n",
    "        \n",
    "def get_relative_degree(A, y):\n",
    "    n = len(A)\n",
    "    g = Matrix([A[i].coeff(u) for i in range(n)])\n",
    "    f = A - g*u\n",
    "    states = sort_states(f.free_symbols)\n",
    "    v = 1\n",
    "    Lfh = y\n",
    "    for i in range(n):\n",
    "        LgLfh = g.T*Matrix([sp.diff(Lfh, i) for i in states])\n",
    "        print(f\"{v=} | LgLfh={LgLfh[0]} | Lfh={Lfh}\")\n",
    "        if not LgLfh[0]==0:\n",
    "            break\n",
    "        Lfh = f.T*Matrix([sp.diff(Lfh, i) for i in states])\n",
    "        v += 1\n",
    "    return v\n",
    "\n",
    "def check_lyapunov_stability(V, Xd):\n",
    "    # Derivate dV/dt\n",
    "    # Substitute x in Vd\n",
    "    # Check if negative definite\n",
    "    # If semi negdef, do la salle\n",
    "    return\n",
    "\n",
    "def transform_and_check_stability(Xd, Z_dict):\n",
    "    sym_dict = get_sym_dict(Xd)\n",
    "    z1d = diff_t(Z_dict['z1'], sym_dict)\n",
    "    z2d = diff_t(Z_dict['z2'], sym_dict)\n",
    "    z3d = diff_t(Z_dict['z3'], sym_dict)\n",
    "\n",
    "    for i in [x1, x2, x3]:\n",
    "        z1d = z1d.subs(i, Z_dict[str(i)])\n",
    "        z2d = z2d.subs(i, Z_dict[str(i)])\n",
    "        z3d = z3d.subs(i, Z_dict[str(i)])\n",
    "\n",
    "    # Find u\n",
    "    eq1 = sp.Function('eq1')\n",
    "    eq1 = Eq(z1d, v)\n",
    "    Z_dict['u'] = sp.solve(eq1, u)[0]\n",
    "    Z = Matrix([z2d, z3d])\n",
    "\n",
    "    # Evaluate internal dynamics\n",
    "    for i in range(len(Z)):\n",
    "        Z[i] = Z[i].subs([(u, Z_dict['u']), (v, 0), (z1, 0)])\n",
    "\n",
    "    display(Z)\n",
    "    Y = sp.Matrix([i for i in sort_states(Z.free_symbols)])\n",
    "    A = Z.jacobian(Y)\n",
    "    for i in Y:\n",
    "        A = A.subs(i, 0)\n",
    "    display(A)\n",
    "    A = np.array(A).astype(np.float64)\n",
    "    try:\n",
    "        w, _ = np.linalg.eig(A)\n",
    "        evaluate_eigenvalue(w)\n",
    "    except TypeError:\n",
    "        print(\"Eigenvalue on the imaginary axis, stability analysis not possible!\")\n",
    "    return\n",
    "\n",
    "def get_z_sym(a, b, c):\n",
    "    # Change list of Z into expendable strings\n",
    "    # Make array of string based on argument\n",
    "    # For loop dictionary with sp.Symbols(str)\n",
    "    Z = [z1, z2, z3]\n",
    "    Z_dict = {'z1': a, 'z2': b, 'z3': c}\n",
    "    Z_copy = deepcopy(Z_dict)\n",
    "    for i, val in enumerate(Z_copy.items()):\n",
    "        if len(str(val[1]))>3:\n",
    "            Vd_operator = get_math_operator(str(val[1]), inverse=True)\n",
    "            Vd_variable = str(val[1]).replace(\" \", '').replace('+', '*').replace('-', '*').split('*')\n",
    "            temp = (i, val)\n",
    "        else:\n",
    "            Z_dict.update({str(val[1]): Z[i]})\n",
    "    try:\n",
    "        if temp:\n",
    "            Z_dict.update({str(Vd_variable[0]): evaluate_op(Z[temp[0]], Z_dict[Vd_variable[1]], Vd_operator[0])})\n",
    "    except NameError:\n",
    "        pass\n",
    "    return Z_dict\n",
    "\n",
    "# Backstepping\n",
    "def backstepping_control():\n",
    "    # find suitable x2 = theta(x1)\n",
    "    # insert to x1d\n",
    "    # calculate lyapunov stability\n",
    "    # transform to z states\n",
    "    # derive z with respect to t\n",
    "    # substitute x variables to z\n",
    "    # substitute z2 to u_\n",
    "    # calculate next lyapunov stability\n",
    "    # find suitable u_ to fulfill stability\n",
    "    # rearrange to u\n",
    "    # transform z to x states\n",
    "    pass"
   ]
  },
  {
   "cell_type": "code",
   "execution_count": 4,
   "metadata": {},
   "outputs": [],
   "source": [
    "x1, x2, x3, u = sp.symbols('x1 x2 x3 u')\n",
    "z1, z2, z3, v = sp.symbols('z1 z2 z3 v')"
   ]
  },
  {
   "cell_type": "code",
   "execution_count": 37,
   "metadata": {},
   "outputs": [],
   "source": [
    "x1d = x2 - x3\n",
    "x2d = -x1*x3 - 2*x2 + u\n",
    "x3d = x1 + u\n",
    "Xd = Matrix([x1d, x2d, x3d])"
   ]
  },
  {
   "cell_type": "code",
   "execution_count": 38,
   "metadata": {
    "scrolled": true
   },
   "outputs": [
    {
     "name": "stdout",
     "output_type": "stream",
     "text": [
      "v=1 | LgLfh=0 | Lfh=x1\n",
      "v=2 | LgLfh=0 | Lfh=Matrix([[x2 - x3]])\n",
      "v=3 | LgLfh=-x1 - 2 | Lfh=Matrix([[-x1*x3 - x1 - 2*x2]])\n",
      "Relative degree is 3\n"
     ]
    }
   ],
   "source": [
    "# Exercise 1a\n",
    "y = x1\n",
    "print(f\"Relative degree is {get_relative_degree(Xd, y)}\")"
   ]
  },
  {
   "cell_type": "code",
   "execution_count": 39,
   "metadata": {},
   "outputs": [
    {
     "name": "stdout",
     "output_type": "stream",
     "text": [
      "v=1 | LgLfh=1 | Lfh=x2\n",
      "Relative degree is 1\n",
      "Z={'z1': x2, 'z2': x1, 'z3': x3, 'x2': z1, 'x1': z2, 'x3': z3}\n"
     ]
    },
    {
     "data": {
      "text/latex": [
       "$\\displaystyle \\left[\\begin{matrix}- z_{3}\\\\z_{2} z_{3} + z_{2}\\end{matrix}\\right]$"
      ],
      "text/plain": [
       "⎡   -z₃    ⎤\n",
       "⎢          ⎥\n",
       "⎣z₂⋅z₃ + z₂⎦"
      ]
     },
     "metadata": {},
     "output_type": "display_data"
    },
    {
     "data": {
      "text/latex": [
       "$\\displaystyle \\left[\\begin{matrix}0 & -1\\\\1 & 0\\end{matrix}\\right]$"
      ],
      "text/plain": [
       "⎡0  -1⎤\n",
       "⎢     ⎥\n",
       "⎣1  0 ⎦"
      ]
     },
     "metadata": {},
     "output_type": "display_data"
    },
    {
     "name": "stdout",
     "output_type": "stream",
     "text": [
      "Eigenvalues are: [0.+1.j 0.-1.j]\n",
      "Eigenvalue is pure imaginary, stability analysis not possible for nonlinear systems!\n"
     ]
    }
   ],
   "source": [
    "# Exercise 1b\n",
    "y = x2\n",
    "print(f\"Relative degree is {get_relative_degree(Xd, y)}\")\n",
    "Z = get_z_sym(x2, x1, x3)\n",
    "print(f\"{Z=}\")\n",
    "transform_and_check_stability(Xd, Z)"
   ]
  },
  {
   "cell_type": "code",
   "execution_count": 40,
   "metadata": {},
   "outputs": [
    {
     "name": "stdout",
     "output_type": "stream",
     "text": [
      "v=1 | LgLfh=1 | Lfh=x3\n",
      "Relative degree is 1\n",
      "Z={'z1': x3, 'z2': x1, 'z3': x2, 'x3': z1, 'x1': z2, 'x2': z3}\n"
     ]
    },
    {
     "data": {
      "text/latex": [
       "$\\displaystyle \\left[\\begin{matrix}z_{3}\\\\- z_{2} - 2 z_{3}\\end{matrix}\\right]$"
      ],
      "text/plain": [
       "⎡    z₃    ⎤\n",
       "⎢          ⎥\n",
       "⎣-z₂ - 2⋅z₃⎦"
      ]
     },
     "metadata": {},
     "output_type": "display_data"
    },
    {
     "data": {
      "text/latex": [
       "$\\displaystyle \\left[\\begin{matrix}0 & 1\\\\-1 & -2\\end{matrix}\\right]$"
      ],
      "text/plain": [
       "⎡0   1 ⎤\n",
       "⎢      ⎥\n",
       "⎣-1  -2⎦"
      ]
     },
     "metadata": {},
     "output_type": "display_data"
    },
    {
     "name": "stdout",
     "output_type": "stream",
     "text": [
      "Eigenvalues are: [-1. -1.]\n",
      "System is stable\n"
     ]
    }
   ],
   "source": [
    "# Exercise 1c\n",
    "y = x3\n",
    "print(f\"Relative degree is {get_relative_degree(Xd, y)}\")\n",
    "Z = get_z_sym(y, x1, x2)\n",
    "print(f\"{Z=}\")\n",
    "transform_and_check_stability(Xd, Z)"
   ]
  },
  {
   "cell_type": "code",
   "execution_count": 41,
   "metadata": {},
   "outputs": [
    {
     "name": "stdout",
     "output_type": "stream",
     "text": [
      "v=1 | LgLfh=2 | Lfh=x2 + x3\n",
      "Relative degree is 1\n",
      "Z={'z1': x2 + x3, 'z2': x1, 'z3': x3, 'x1': z2, 'x3': z3, 'x2': z1 - z3}\n"
     ]
    },
    {
     "data": {
      "text/latex": [
       "$\\displaystyle \\left[\\begin{matrix}- 2 z_{3}\\\\\\frac{z_{2} z_{3}}{2} + \\frac{z_{2}}{2} - z_{3}\\end{matrix}\\right]$"
      ],
      "text/plain": [
       "⎡     -2⋅z₃     ⎤\n",
       "⎢               ⎥\n",
       "⎢z₂⋅z₃   z₂     ⎥\n",
       "⎢───── + ── - z₃⎥\n",
       "⎣  2     2      ⎦"
      ]
     },
     "metadata": {},
     "output_type": "display_data"
    },
    {
     "data": {
      "text/latex": [
       "$\\displaystyle \\left[\\begin{matrix}0 & -2\\\\\\frac{1}{2} & -1\\end{matrix}\\right]$"
      ],
      "text/plain": [
       "⎡ 0   -2⎤\n",
       "⎢       ⎥\n",
       "⎣1/2  -1⎦"
      ]
     },
     "metadata": {},
     "output_type": "display_data"
    },
    {
     "name": "stdout",
     "output_type": "stream",
     "text": [
      "Eigenvalues are: [-0.5+0.8660254j -0.5-0.8660254j]\n",
      "System is stable focus\n"
     ]
    }
   ],
   "source": [
    "# Exercise 1d\n",
    "y = x2 + x3\n",
    "print(f\"Relative degree is {get_relative_degree(Xd, y)}\")\n",
    "Z = get_z_sym(y, x1, x3)\n",
    "print(f\"{Z=}\")\n",
    "transform_and_check_stability(Xd, Z)"
   ]
  },
  {
   "cell_type": "code",
   "execution_count": 42,
   "metadata": {},
   "outputs": [
    {
     "name": "stdout",
     "output_type": "stream",
     "text": [
      "v=1 | LgLfh=0 | Lfh=x1\n",
      "v=2 | LgLfh=2 | Lfh=Matrix([[-x1 + 2*x2]])\n",
      "Relative degree is 2\n"
     ]
    }
   ],
   "source": [
    "# Exercise 2b\n",
    "x1d = -x1 + 2*x2\n",
    "x2d = x1**2 + x3 + u\n",
    "x3d = -4*x3 + x2**2 + u\n",
    "Xd = Matrix([x1d, x2d, x3d])\n",
    "\n",
    "y = x1\n",
    "print(f\"Relative degree is {get_relative_degree(Xd, y)}\")\n",
    "# Can't work with these, need to change how to code works\n",
    "# Z = get_z_sym(y, x1d, x3)\n",
    "# Z = {'z1': x1, 'z2': x1d, 'z3': x3, 'x2': 0.5*(z1+z2), 'x3': z3, 'x1': z1}\n",
    "# transform_and_check_stability(Xd, Z)"
   ]
  },
  {
   "cell_type": "code",
   "execution_count": 43,
   "metadata": {},
   "outputs": [
    {
     "name": "stdout",
     "output_type": "stream",
     "text": [
      "Vd=-x1**4 - x2**4\n",
      "Vd=-x1**2 - x2**2\n",
      "Vd=-x1**4 - 2*x1**2*x2 - 3*x1**2 - x2**2\n",
      "Vd=-10*x1**2*(x1 - 2*x2)**2\n"
     ]
    }
   ],
   "source": [
    "# Lyapunov\n",
    "\n",
    "# Exercise 1\n",
    "x1d = -x1**3 + x1*x2**2\n",
    "x2d = -x1**2*x2 - x2**3\n",
    "Xd = sp.Matrix([x1d, x2d])\n",
    "V = 1/2*(x1**2 + x2**2)\n",
    "Vd = diff_t(V, get_sym_dict(Xd))\n",
    "print(f\"{Vd=}\")\n",
    "\n",
    "# Exercise 2\n",
    "x1d = 2*x2 - x1\n",
    "x2d = -2*x1 - x2\n",
    "Xd = sp.Matrix([x1d, x2d])\n",
    "V = 1/2*(x1**2 + x2**2)\n",
    "Vd = diff_t(V, get_sym_dict(Xd))\n",
    "print(f\"{Vd=}\")\n",
    "\n",
    "# Exercise 3.3\n",
    "x1d = -3*x1 - x1**3 - x1*x2\n",
    "x2d = -2*x1**2 - x2 + x1**2\n",
    "Xd = sp.Matrix([x1d, x2d])\n",
    "V = 1/2*(x1**2 + x2**2)\n",
    "Vd = diff_t(V, get_sym_dict(Xd))\n",
    "print(f\"{Vd=}\")\n",
    "\n",
    "# Exercise 3.4\n",
    "x1d = -40*x1*x2**2 + 10*x2 - 10*x1**3\n",
    "x2d = 40*x1**3 - 10*x1\n",
    "Xd = sp.Matrix([x1d, x2d])\n",
    "V = 1/2*(x1**2 + x2**2)\n",
    "Vd = diff_t(V, get_sym_dict(Xd))\n",
    "print(f\"{Vd=}\")"
   ]
  },
  {
   "cell_type": "code",
   "execution_count": 62,
   "metadata": {},
   "outputs": [
    {
     "data": {
      "text/latex": [
       "$\\displaystyle \\left[\\begin{matrix}u - x_{1}^{2} + x_{2}\\\\x_{1} + x_{2}\\end{matrix}\\right]$"
      ],
      "text/plain": [
       "⎡      2     ⎤\n",
       "⎢u - x₁  + x₂⎥\n",
       "⎢            ⎥\n",
       "⎣  x₁ + x₂   ⎦"
      ]
     },
     "metadata": {},
     "output_type": "display_data"
    }
   ],
   "source": [
    "# Sliding Mode\n",
    "\n",
    "# Exercise 1\n",
    "th = sp.symbols('th')\n",
    "x1d = -1*x1**2 + x2 + u\n",
    "x2d = x1 + x2\n",
    "Xd = sp.Matrix([x1d, x2d])\n",
    "display(Xd)"
   ]
  },
  {
   "cell_type": "code",
   "execution_count": 55,
   "metadata": {},
   "outputs": [
    {
     "name": "stdout",
     "output_type": "stream",
     "text": [
      "v=1 | LgLfh=1 | Lfh=x1 - x2\n",
      "Condition 1 is fulfilled\n",
      "Condition 2 is fulfilled\n",
      "v=1 | LgLfh=1 | Lfh=x1 + 4*x2\n",
      "Condition 1 is fulfilled\n",
      "Condition 2 is fulfilled\n",
      "v=1 | LgLfh=0 | Lfh=x2**2 + x2\n",
      "v=2 | LgLfh=2*x2 + 1 | Lfh=Matrix([[(x1 + x2)*(2*x2 + 1)]])\n",
      "Condition 1 is fulfilled\n",
      "Condition 2 is NOT fulfilled\n"
     ]
    }
   ],
   "source": [
    "# 1a\n",
    "s1 = x1 - x2\n",
    "v = get_relative_degree(Xd, s1)\n",
    "if s1.subs([(x1, 0), (x2, 0)]) == 0:\n",
    "    print(\"Condition 1 is fulfilled\")\n",
    "if v == 1:\n",
    "    print(f\"Condition 2 is fulfilled\")\n",
    "# Z = {'z1': s1, 'z2': x2, 'x1': z1+z2, 'x2': z2}\n",
    "# transform_and_check_stability(Xd, Z)\n",
    "\n",
    "s2 = x1 + 4*x2\n",
    "v = get_relative_degree(Xd, s2)\n",
    "if s1.subs([(x1, 0), (x2, 0)]) == 0:\n",
    "    print(\"Condition 1 is fulfilled\")\n",
    "if v == 1:\n",
    "    print(f\"Condition 2 is fulfilled\")\n",
    "# Z = {'z1': s2, 'z2': x2, 'x1': z1-4*z2, 'x2': z2}\n",
    "\n",
    "s3 = x2**2 + x2\n",
    "v = get_relative_degree(Xd, s3)\n",
    "if s1.subs([(x1, 0), (x2, 0)]) == 0:\n",
    "    print(\"Condition 1 is fulfilled\")\n",
    "if v == 1:\n",
    "    print(f\"Condition 2 is fulfilled\")\n",
    "else:\n",
    "    print(f\"Condition 2 is NOT fulfilled\")"
   ]
  },
  {
   "cell_type": "code",
   "execution_count": 59,
   "metadata": {},
   "outputs": [
    {
     "data": {
      "text/latex": [
       "$\\displaystyle \\left[\\begin{matrix}u - x_{1}^{2} + x_{2}\\\\x_{1} + x_{2}\\end{matrix}\\right]$"
      ],
      "text/plain": [
       "⎡      2     ⎤\n",
       "⎢u - x₁  + x₂⎥\n",
       "⎢            ⎥\n",
       "⎣  x₁ + x₂   ⎦"
      ]
     },
     "metadata": {},
     "output_type": "display_data"
    }
   ],
   "source": [
    "# 1b\n",
    "# Suitable Manifold: s(x) = x1 + 4*x2\n",
    "s = x1 + 4*x2"
   ]
  },
  {
   "cell_type": "code",
   "execution_count": 83,
   "metadata": {},
   "outputs": [
    {
     "name": "stdout",
     "output_type": "stream",
     "text": [
      "v=1 | LgLfh=1 | Lfh=4*x1**2 + x2\n",
      "Condition 1 is fulfilled\n",
      "Condition 2 is fulfilled\n"
     ]
    }
   ],
   "source": [
    "# Exercise 2\n",
    "x1d = x1*x2\n",
    "x2d = x1 + u\n",
    "Xd = sp.Matrix([x1d, x2d])\n",
    "\n",
    "s = x2+x1**2\n",
    "v = get_relative_degree(Xd, s)\n",
    "if s1.subs([(x1, 0), (x2, 0)]) == 0:\n",
    "    print(\"Condition 1 is fulfilled\")\n",
    "if v == 1:\n",
    "    print(f\"Condition 2 is fulfilled\")\n",
    "else:\n",
    "    print(f\"Condition 2 is NOT fulfilled\")"
   ]
  },
  {
   "cell_type": "code",
   "execution_count": 68,
   "metadata": {},
   "outputs": [
    {
     "name": "stdout",
     "output_type": "stream",
     "text": [
      " \n",
      "Exercise 4.6 \n"
     ]
    },
    {
     "data": {
      "text/latex": [
       "$\\displaystyle \\left[\\begin{matrix}- x_{1} - 2 x_{2}\\\\- x_{1} \\cos{\\left(x_{1} \\right)} + x_{1} + x_{2} - \\sin{\\left(x_{1} \\right)}\\end{matrix}\\right]$"
      ],
      "text/plain": [
       "⎡          -x₁ - 2⋅x₂           ⎤\n",
       "⎢                               ⎥\n",
       "⎣-x₁⋅cos(x₁) + x₁ + x₂ - sin(x₁)⎦"
      ]
     },
     "metadata": {},
     "output_type": "display_data"
    },
    {
     "name": "stdout",
     "output_type": "stream",
     "text": [
      " \n",
      "Exercise 4.7 \n"
     ]
    },
    {
     "data": {
      "text/latex": [
       "$\\displaystyle \\left[\\begin{matrix}2 x_{2} & 1\\\\1 & 0\\\\0 & x_{2}\\end{matrix}\\right]$"
      ],
      "text/plain": [
       "⎡2⋅x₂  1 ⎤\n",
       "⎢        ⎥\n",
       "⎢ 1    0 ⎥\n",
       "⎢        ⎥\n",
       "⎣ 0    x₂⎦"
      ]
     },
     "metadata": {},
     "output_type": "display_data"
    },
    {
     "name": "stdout",
     "output_type": "stream",
     "text": [
      "It is NOT involutive\n",
      " \n",
      "Exercise 4.8 \n"
     ]
    },
    {
     "data": {
      "text/latex": [
       "$\\displaystyle \\left[\\begin{matrix}2 x_{3} & - x_{1}\\\\-1 & - 2 x_{2}\\\\0 & x_{3}\\end{matrix}\\right]$"
      ],
      "text/plain": [
       "⎡2⋅x₃   -x₁ ⎤\n",
       "⎢           ⎥\n",
       "⎢ -1   -2⋅x₂⎥\n",
       "⎢           ⎥\n",
       "⎣ 0     x₃  ⎦"
      ]
     },
     "metadata": {},
     "output_type": "display_data"
    },
    {
     "name": "stdout",
     "output_type": "stream",
     "text": [
      "It is involutive\n",
      " \n",
      "Exercise 4.9 \n"
     ]
    },
    {
     "ename": "ShapeError",
     "evalue": "Matrix size mismatch: (2, 2) * (3, 1).",
     "output_type": "error",
     "traceback": [
      "\u001b[1;31m---------------------------------------------------------------------------\u001b[0m",
      "\u001b[1;31mShapeError\u001b[0m                                Traceback (most recent call last)",
      "\u001b[1;32m<ipython-input-68-86581297608b>\u001b[0m in \u001b[0;36m<module>\u001b[1;34m\u001b[0m\n\u001b[0;32m     90\u001b[0m \u001b[0mf1\u001b[0m \u001b[1;33m=\u001b[0m \u001b[0msp\u001b[0m\u001b[1;33m.\u001b[0m\u001b[0mMatrix\u001b[0m\u001b[1;33m(\u001b[0m\u001b[1;33m[\u001b[0m\u001b[0ma\u001b[0m\u001b[1;33m*\u001b[0m\u001b[0msp\u001b[0m\u001b[1;33m.\u001b[0m\u001b[0msin\u001b[0m\u001b[1;33m(\u001b[0m\u001b[0mx2\u001b[0m\u001b[1;33m)\u001b[0m\u001b[1;33m,\u001b[0m \u001b[1;33m-\u001b[0m\u001b[0mx1\u001b[0m\u001b[1;33m**\u001b[0m\u001b[1;36m2\u001b[0m\u001b[1;33m]\u001b[0m\u001b[1;33m)\u001b[0m\u001b[1;33m\u001b[0m\u001b[1;33m\u001b[0m\u001b[0m\n\u001b[0;32m     91\u001b[0m \u001b[0mg\u001b[0m \u001b[1;33m=\u001b[0m \u001b[0msp\u001b[0m\u001b[1;33m.\u001b[0m\u001b[0mMatrix\u001b[0m\u001b[1;33m(\u001b[0m\u001b[1;33m[\u001b[0m\u001b[1;36m0\u001b[0m\u001b[1;33m,\u001b[0m \u001b[1;36m1\u001b[0m\u001b[1;33m]\u001b[0m\u001b[1;33m)\u001b[0m\u001b[1;33m\u001b[0m\u001b[1;33m\u001b[0m\u001b[0m\n\u001b[1;32m---> 92\u001b[1;33m \u001b[0mcheck_linearisability\u001b[0m\u001b[1;33m(\u001b[0m\u001b[0mf1\u001b[0m\u001b[1;33m,\u001b[0m \u001b[0mg\u001b[0m\u001b[1;33m)\u001b[0m\u001b[1;33m\u001b[0m\u001b[1;33m\u001b[0m\u001b[0m\n\u001b[0m\u001b[0;32m     93\u001b[0m \u001b[1;31m# adf1 = lie_bracket(f1, g)\u001b[0m\u001b[1;33m\u001b[0m\u001b[1;33m\u001b[0m\u001b[1;33m\u001b[0m\u001b[0m\n\u001b[0;32m     94\u001b[0m \u001b[1;31m# G = g.col_insert(1, adf1)\u001b[0m\u001b[1;33m\u001b[0m\u001b[1;33m\u001b[0m\u001b[1;33m\u001b[0m\u001b[0m\n",
      "\u001b[1;32m<ipython-input-68-86581297608b>\u001b[0m in \u001b[0;36mcheck_linearisability\u001b[1;34m(f1, g, d)\u001b[0m\n\u001b[0;32m     51\u001b[0m         \u001b[0madf\u001b[0m \u001b[1;33m=\u001b[0m \u001b[0mlie_bracket\u001b[0m\u001b[1;33m(\u001b[0m\u001b[0mf1\u001b[0m\u001b[1;33m,\u001b[0m \u001b[0mG\u001b[0m\u001b[1;33m[\u001b[0m\u001b[1;33m:\u001b[0m\u001b[1;33m,\u001b[0m \u001b[0mi\u001b[0m\u001b[1;33m]\u001b[0m\u001b[1;33m)\u001b[0m\u001b[1;33m\u001b[0m\u001b[1;33m\u001b[0m\u001b[0m\n\u001b[0;32m     52\u001b[0m         \u001b[0mG\u001b[0m \u001b[1;33m=\u001b[0m \u001b[0mG\u001b[0m\u001b[1;33m.\u001b[0m\u001b[0mcol_insert\u001b[0m\u001b[1;33m(\u001b[0m\u001b[0msp\u001b[0m\u001b[1;33m.\u001b[0m\u001b[0mshape\u001b[0m\u001b[1;33m(\u001b[0m\u001b[0mG\u001b[0m\u001b[1;33m)\u001b[0m\u001b[1;33m[\u001b[0m\u001b[1;36m1\u001b[0m\u001b[1;33m]\u001b[0m\u001b[1;33m,\u001b[0m \u001b[0madf\u001b[0m\u001b[1;33m)\u001b[0m\u001b[1;33m\u001b[0m\u001b[1;33m\u001b[0m\u001b[0m\n\u001b[1;32m---> 53\u001b[1;33m     \u001b[0minvolutive\u001b[0m \u001b[1;33m=\u001b[0m \u001b[0mcheck_involutivity_\u001b[0m\u001b[1;33m(\u001b[0m\u001b[0mG\u001b[0m\u001b[1;33m)\u001b[0m\u001b[1;33m\u001b[0m\u001b[1;33m\u001b[0m\u001b[0m\n\u001b[0m\u001b[0;32m     54\u001b[0m     \u001b[1;32mif\u001b[0m \u001b[0mG\u001b[0m\u001b[1;33m.\u001b[0m\u001b[0mrank\u001b[0m\u001b[1;33m(\u001b[0m\u001b[1;33m)\u001b[0m\u001b[1;33m==\u001b[0m\u001b[0mlen\u001b[0m\u001b[1;33m(\u001b[0m\u001b[0mg\u001b[0m\u001b[1;33m)\u001b[0m \u001b[1;32mand\u001b[0m \u001b[0minvolutive\u001b[0m\u001b[1;33m:\u001b[0m\u001b[1;33m\u001b[0m\u001b[1;33m\u001b[0m\u001b[0m\n\u001b[0;32m     55\u001b[0m         \u001b[0mprint\u001b[0m\u001b[1;33m(\u001b[0m\u001b[1;34m\"It is I/S linearisable\"\u001b[0m\u001b[1;33m)\u001b[0m\u001b[1;33m\u001b[0m\u001b[1;33m\u001b[0m\u001b[0m\n",
      "\u001b[1;32m<ipython-input-68-86581297608b>\u001b[0m in \u001b[0;36mcheck_involutivity_\u001b[1;34m(G, Y)\u001b[0m\n\u001b[0;32m     32\u001b[0m             \u001b[1;32mif\u001b[0m \u001b[1;32mnot\u001b[0m \u001b[0mi\u001b[0m\u001b[1;33m==\u001b[0m\u001b[0mj\u001b[0m\u001b[1;33m:\u001b[0m\u001b[1;33m\u001b[0m\u001b[1;33m\u001b[0m\u001b[0m\n\u001b[0;32m     33\u001b[0m                 \u001b[0mf1\u001b[0m \u001b[1;33m=\u001b[0m \u001b[0mG\u001b[0m\u001b[1;33m[\u001b[0m\u001b[1;33m:\u001b[0m\u001b[1;33m,\u001b[0m \u001b[0mj\u001b[0m\u001b[1;33m]\u001b[0m\u001b[1;33m\u001b[0m\u001b[1;33m\u001b[0m\u001b[0m\n\u001b[1;32m---> 34\u001b[1;33m                 \u001b[0mD\u001b[0m \u001b[1;33m=\u001b[0m \u001b[0mD\u001b[0m\u001b[1;33m.\u001b[0m\u001b[0mcol_insert\u001b[0m\u001b[1;33m(\u001b[0m\u001b[0msp\u001b[0m\u001b[1;33m.\u001b[0m\u001b[0mshape\u001b[0m\u001b[1;33m(\u001b[0m\u001b[0mD\u001b[0m\u001b[1;33m)\u001b[0m\u001b[1;33m[\u001b[0m\u001b[1;36m1\u001b[0m\u001b[1;33m]\u001b[0m\u001b[1;33m,\u001b[0m \u001b[0mlie_bracket\u001b[0m\u001b[1;33m(\u001b[0m\u001b[0mf1\u001b[0m\u001b[1;33m,\u001b[0m \u001b[0mf2\u001b[0m\u001b[1;33m)\u001b[0m\u001b[1;33m)\u001b[0m\u001b[1;33m\u001b[0m\u001b[1;33m\u001b[0m\u001b[0m\n\u001b[0m\u001b[0;32m     35\u001b[0m     \u001b[1;32mif\u001b[0m \u001b[0mG\u001b[0m\u001b[1;33m.\u001b[0m\u001b[0mrank\u001b[0m\u001b[1;33m(\u001b[0m\u001b[1;33m)\u001b[0m \u001b[1;33m==\u001b[0m \u001b[0mD\u001b[0m\u001b[1;33m.\u001b[0m\u001b[0mrank\u001b[0m\u001b[1;33m(\u001b[0m\u001b[1;33m)\u001b[0m\u001b[1;33m:\u001b[0m\u001b[1;33m\u001b[0m\u001b[1;33m\u001b[0m\u001b[0m\n\u001b[0;32m     36\u001b[0m         \u001b[0mprint\u001b[0m\u001b[1;33m(\u001b[0m\u001b[1;34m\"It is involutive\"\u001b[0m\u001b[1;33m)\u001b[0m\u001b[1;33m\u001b[0m\u001b[1;33m\u001b[0m\u001b[0m\n",
      "\u001b[1;32m<ipython-input-68-86581297608b>\u001b[0m in \u001b[0;36mlie_bracket\u001b[1;34m(f, g, Y)\u001b[0m\n\u001b[0;32m      5\u001b[0m         \u001b[1;32mfor\u001b[0m \u001b[0mi\u001b[0m \u001b[1;32min\u001b[0m \u001b[0mrange\u001b[0m\u001b[1;33m(\u001b[0m\u001b[0mdim\u001b[0m\u001b[1;33m)\u001b[0m\u001b[1;33m:\u001b[0m\u001b[1;33m\u001b[0m\u001b[1;33m\u001b[0m\u001b[0m\n\u001b[0;32m      6\u001b[0m             \u001b[0mY\u001b[0m\u001b[1;33m.\u001b[0m\u001b[0mappend\u001b[0m\u001b[1;33m(\u001b[0m\u001b[0msp\u001b[0m\u001b[1;33m.\u001b[0m\u001b[0msymbols\u001b[0m\u001b[1;33m(\u001b[0m\u001b[1;34mf\"x{i+1}\"\u001b[0m\u001b[1;33m)\u001b[0m\u001b[1;33m)\u001b[0m\u001b[1;33m\u001b[0m\u001b[1;33m\u001b[0m\u001b[0m\n\u001b[1;32m----> 7\u001b[1;33m     \u001b[1;32mreturn\u001b[0m \u001b[0mg\u001b[0m\u001b[1;33m.\u001b[0m\u001b[0mjacobian\u001b[0m\u001b[1;33m(\u001b[0m\u001b[0mY\u001b[0m\u001b[1;33m)\u001b[0m\u001b[1;33m*\u001b[0m\u001b[0mf\u001b[0m \u001b[1;33m-\u001b[0m \u001b[0mf\u001b[0m\u001b[1;33m.\u001b[0m\u001b[0mjacobian\u001b[0m\u001b[1;33m(\u001b[0m\u001b[0mY\u001b[0m\u001b[1;33m)\u001b[0m\u001b[1;33m*\u001b[0m\u001b[0mg\u001b[0m\u001b[1;33m\u001b[0m\u001b[1;33m\u001b[0m\u001b[0m\n\u001b[0m\u001b[0;32m      8\u001b[0m \u001b[1;33m\u001b[0m\u001b[0m\n\u001b[0;32m      9\u001b[0m \u001b[1;32mdef\u001b[0m \u001b[0mcheck_involutivity\u001b[0m\u001b[1;33m(\u001b[0m\u001b[0mf1\u001b[0m\u001b[1;33m,\u001b[0m \u001b[0mf2\u001b[0m\u001b[1;33m,\u001b[0m \u001b[0mY\u001b[0m\u001b[1;33m=\u001b[0m\u001b[1;32mNone\u001b[0m\u001b[1;33m)\u001b[0m\u001b[1;33m:\u001b[0m\u001b[1;33m\u001b[0m\u001b[1;33m\u001b[0m\u001b[0m\n",
      "\u001b[1;32m~\\anaconda3\\envs\\matlab\\lib\\site-packages\\sympy\\core\\decorators.py\u001b[0m in \u001b[0;36mbinary_op_wrapper\u001b[1;34m(self, other)\u001b[0m\n\u001b[0;32m    134\u001b[0m                     \u001b[1;32mif\u001b[0m \u001b[0mf\u001b[0m \u001b[1;32mis\u001b[0m \u001b[1;32mnot\u001b[0m \u001b[1;32mNone\u001b[0m\u001b[1;33m:\u001b[0m\u001b[1;33m\u001b[0m\u001b[1;33m\u001b[0m\u001b[0m\n\u001b[0;32m    135\u001b[0m                         \u001b[1;32mreturn\u001b[0m \u001b[0mf\u001b[0m\u001b[1;33m(\u001b[0m\u001b[0mself\u001b[0m\u001b[1;33m)\u001b[0m\u001b[1;33m\u001b[0m\u001b[1;33m\u001b[0m\u001b[0m\n\u001b[1;32m--> 136\u001b[1;33m             \u001b[1;32mreturn\u001b[0m \u001b[0mfunc\u001b[0m\u001b[1;33m(\u001b[0m\u001b[0mself\u001b[0m\u001b[1;33m,\u001b[0m \u001b[0mother\u001b[0m\u001b[1;33m)\u001b[0m\u001b[1;33m\u001b[0m\u001b[1;33m\u001b[0m\u001b[0m\n\u001b[0m\u001b[0;32m    137\u001b[0m         \u001b[1;32mreturn\u001b[0m \u001b[0mbinary_op_wrapper\u001b[0m\u001b[1;33m\u001b[0m\u001b[1;33m\u001b[0m\u001b[0m\n\u001b[0;32m    138\u001b[0m     \u001b[1;32mreturn\u001b[0m \u001b[0mpriority_decorator\u001b[0m\u001b[1;33m\u001b[0m\u001b[1;33m\u001b[0m\u001b[0m\n",
      "\u001b[1;32m~\\anaconda3\\envs\\matlab\\lib\\site-packages\\sympy\\matrices\\common.py\u001b[0m in \u001b[0;36m__mul__\u001b[1;34m(self, other)\u001b[0m\n\u001b[0;32m   2740\u001b[0m         \"\"\"\n\u001b[0;32m   2741\u001b[0m \u001b[1;33m\u001b[0m\u001b[0m\n\u001b[1;32m-> 2742\u001b[1;33m         \u001b[1;32mreturn\u001b[0m \u001b[0mself\u001b[0m\u001b[1;33m.\u001b[0m\u001b[0mmultiply\u001b[0m\u001b[1;33m(\u001b[0m\u001b[0mother\u001b[0m\u001b[1;33m)\u001b[0m\u001b[1;33m\u001b[0m\u001b[1;33m\u001b[0m\u001b[0m\n\u001b[0m\u001b[0;32m   2743\u001b[0m \u001b[1;33m\u001b[0m\u001b[0m\n\u001b[0;32m   2744\u001b[0m     \u001b[1;32mdef\u001b[0m \u001b[0mmultiply\u001b[0m\u001b[1;33m(\u001b[0m\u001b[0mself\u001b[0m\u001b[1;33m,\u001b[0m \u001b[0mother\u001b[0m\u001b[1;33m,\u001b[0m \u001b[0mdotprodsimp\u001b[0m\u001b[1;33m=\u001b[0m\u001b[1;32mNone\u001b[0m\u001b[1;33m)\u001b[0m\u001b[1;33m:\u001b[0m\u001b[1;33m\u001b[0m\u001b[1;33m\u001b[0m\u001b[0m\n",
      "\u001b[1;32m~\\anaconda3\\envs\\matlab\\lib\\site-packages\\sympy\\matrices\\common.py\u001b[0m in \u001b[0;36mmultiply\u001b[1;34m(self, other, dotprodsimp)\u001b[0m\n\u001b[0;32m   2762\u001b[0m              getattr(other, 'is_MatrixLike', True))):\n\u001b[0;32m   2763\u001b[0m             \u001b[1;32mif\u001b[0m \u001b[0mself\u001b[0m\u001b[1;33m.\u001b[0m\u001b[0mshape\u001b[0m\u001b[1;33m[\u001b[0m\u001b[1;36m1\u001b[0m\u001b[1;33m]\u001b[0m \u001b[1;33m!=\u001b[0m \u001b[0mother\u001b[0m\u001b[1;33m.\u001b[0m\u001b[0mshape\u001b[0m\u001b[1;33m[\u001b[0m\u001b[1;36m0\u001b[0m\u001b[1;33m]\u001b[0m\u001b[1;33m:\u001b[0m\u001b[1;33m\u001b[0m\u001b[1;33m\u001b[0m\u001b[0m\n\u001b[1;32m-> 2764\u001b[1;33m                 raise ShapeError(\"Matrix size mismatch: %s * %s.\" % (\n\u001b[0m\u001b[0;32m   2765\u001b[0m                     self.shape, other.shape))\n\u001b[0;32m   2766\u001b[0m \u001b[1;33m\u001b[0m\u001b[0m\n",
      "\u001b[1;31mShapeError\u001b[0m: Matrix size mismatch: (2, 2) * (3, 1)."
     ]
    }
   ],
   "source": [
    "def lie_bracket(f, g, Y=None):\n",
    "    if Y is None:\n",
    "        dim = len(f)\n",
    "        Y = []\n",
    "        for i in range(dim):\n",
    "            Y.append(sp.symbols(f\"x{i+1}\"))\n",
    "    return g.jacobian(Y)*f - f.jacobian(Y)*g\n",
    "\n",
    "def check_involutivity(f1, f2, Y=None):\n",
    "    # Lie Bracket | Involutive | Dimensions\n",
    "    if Y is None:\n",
    "        dim = len(f1)\n",
    "        Y = []\n",
    "        for i in range(dim):\n",
    "            Y.append(sp.symbols(f\"x{i+1}\"))\n",
    "    F = sp.Matrix([f1.T, f2.T])\n",
    "    rankF = F.rank()\n",
    "    lie = lie_bracket(f1, f2, Y)\n",
    "    rankFLie = sp.Matrix([f1.T, f2.T, lie.T]).rank()\n",
    "    if rankF == rankFLie:\n",
    "        print(\"It is involutive\")\n",
    "        return True\n",
    "    else:\n",
    "        print(\"It is NOT involutive\")\n",
    "        return False\n",
    "    \n",
    "def check_involutivity_(G, Y=None):\n",
    "    D = G\n",
    "    for i in range(sp.shape(G)[1]):\n",
    "        f1 = G[:, i]\n",
    "        for j in range(sp.shape(G)[1]):\n",
    "            if not i==j:\n",
    "                f1 = G[:, j]\n",
    "                D = D.col_insert(sp.shape(D)[1], lie_bracket(f1, f2))\n",
    "    if G.rank() == D.rank():\n",
    "        print(\"It is involutive\")\n",
    "        return True\n",
    "    else:\n",
    "        print(\"It is NOT involutive\")\n",
    "        return False\n",
    "\n",
    "def check_linearisability(f1, g, d=None):\n",
    "    if d is None:\n",
    "        d = len(f1)\n",
    "        Y = []\n",
    "        for i in range(d):\n",
    "            Y.append(sp.symbols(f\"x{i+1}\"))\n",
    "    G = sp.Matrix([g])\n",
    "    lie = sp.Matrix([])\n",
    "    for i in range(d-1):\n",
    "        adf = lie_bracket(f1, G[:, i])\n",
    "        G = G.col_insert(sp.shape(G)[1], adf)\n",
    "    involutive = check_involutivity_(G)\n",
    "    if G.rank()==len(g) and involutive:\n",
    "        print(\"It is I/S linearisable\")\n",
    "        return True\n",
    "    else:\n",
    "        print(\"It is NOT I/S linearisable\")\n",
    "        return False\n",
    "\n",
    "print(\" \")\n",
    "print(\"Exercise 4.6 \")\n",
    "f = sp.Matrix([x2, -sp.sin(x1) - x2])\n",
    "g = sp.Matrix([0, x1])\n",
    "adf1 = lie_bracket(f, g)\n",
    "adf2 = lie_bracket(f, adf1)\n",
    "display(adf2)\n",
    "        \n",
    "print(\" \")\n",
    "print(\"Exercise 4.7 \")\n",
    "f1 = sp.Matrix([2*x2, 1, 0])\n",
    "f2 = sp.Matrix([1, 0, x2])\n",
    "F = sp.Matrix([f1.T, f2.T]).T\n",
    "display(F)\n",
    "check_involutivity_(F)\n",
    "# check_involutivity(f1, f2)\n",
    "\n",
    "print(\" \")\n",
    "print(\"Exercise 4.8 \")\n",
    "f1 = sp.Matrix([2*x3, -1, 0])\n",
    "f2 = sp.Matrix([-x1, -2*x2, x3])\n",
    "F = sp.Matrix([f1.T, f2.T]).T\n",
    "display(F)\n",
    "check_involutivity_(F)\n",
    "# check_involutivity(f1, f2)\n",
    "\n",
    "print(\" \")\n",
    "print(\"Exercise 4.9 \")\n",
    "a = sp.symbols('a')\n",
    "f1 = sp.Matrix([a*sp.sin(x2), -x1**2])\n",
    "g = sp.Matrix([0, 1])\n",
    "check_linearisability(f1, g)\n",
    "# adf1 = lie_bracket(f1, g)\n",
    "# G = g.col_insert(1, adf1)\n",
    "# display(G)\n",
    "# if G.rank()==len(f) and check_involutivity(F):\n",
    "#     print(\"It is I/S linearisable\")\n",
    "# else:\n",
    "#     print(\"It is NOT I/S linearisable\")\n",
    "\"\"\"\n",
    "    Find flat output?\n",
    "    v = n = 2\n",
    "    v = 1: Lfg = dh/dx*g = dh/dx * (0, 1) = 0\n",
    "           This means that h does NOT contain x2\n",
    "    v = 2: Lfg2 = d(Lfg)/dx*g = d(Lfg)/dx * (0 1) =/= 0\n",
    "           With Lfg = dh/dx1 * f[0], since h doesn't contain x2\n",
    "           This means that h does in deed contain x1!           \n",
    "\"\"\"\n",
    "\n",
    "print(\" \")\n",
    "print(\"Exercise 4.10 \")\n",
    "x1d = x1**2 + x2\n",
    "x2d = x3**2 + u\n",
    "x3d = x1**2 + x1 + x2\n",
    "Xd = sp.Matrix([x1d, x2d, x3d])\n",
    "f = sp.Matrix([\n",
    "    [x1**2 + x2],\n",
    "    [x3**2],\n",
    "    [x1**2 + x1 + x2]\n",
    "])\n",
    "g = sp.Matrix([0, 1, 0])\n",
    "check_linearisability(f, g)"
   ]
  },
  {
   "cell_type": "code",
   "execution_count": 58,
   "metadata": {},
   "outputs": [
    {
     "data": {
      "text/latex": [
       "$\\displaystyle \\left[\\begin{matrix}1 & 0 & 0.7 & 1.4\\\\2 & 0 & 1.4 & 2.8\\\\3 & 0 & 2.1 & 4.2\\end{matrix}\\right]$"
      ],
      "text/plain": [
       "⎡1  0  0.7  1.4⎤\n",
       "⎢              ⎥\n",
       "⎢2  0  1.4  2.8⎥\n",
       "⎢              ⎥\n",
       "⎣3  0  2.1  4.2⎦"
      ]
     },
     "metadata": {},
     "output_type": "display_data"
    },
    {
     "data": {
      "text/latex": [
       "$\\displaystyle \\left[\\begin{matrix}0\\\\0\\\\0\\end{matrix}\\right]$"
      ],
      "text/plain": [
       "⎡0⎤\n",
       "⎢ ⎥\n",
       "⎢0⎥\n",
       "⎢ ⎥\n",
       "⎣0⎦"
      ]
     },
     "metadata": {},
     "output_type": "display_data"
    },
    {
     "data": {
      "text/latex": [
       "$\\displaystyle \\left[\\begin{matrix}-0.7\\\\-2.8\\\\2.1\\end{matrix}\\right]$"
      ],
      "text/plain": [
       "⎡-0.7⎤\n",
       "⎢    ⎥\n",
       "⎢-2.8⎥\n",
       "⎢    ⎥\n",
       "⎣2.1 ⎦"
      ]
     },
     "metadata": {},
     "output_type": "display_data"
    },
    {
     "data": {
      "text/latex": [
       "$\\displaystyle \\left[\\begin{matrix}-1.4\\\\-5.6\\\\4.2\\end{matrix}\\right]$"
      ],
      "text/plain": [
       "⎡-1.4⎤\n",
       "⎢    ⎥\n",
       "⎢-5.6⎥\n",
       "⎢    ⎥\n",
       "⎣4.2 ⎦"
      ]
     },
     "metadata": {},
     "output_type": "display_data"
    },
    {
     "data": {
      "text/latex": [
       "$\\displaystyle \\left[\\begin{matrix}-1\\\\-4\\\\3\\end{matrix}\\right]$"
      ],
      "text/plain": [
       "⎡-1⎤\n",
       "⎢  ⎥\n",
       "⎢-4⎥\n",
       "⎢  ⎥\n",
       "⎣3 ⎦"
      ]
     },
     "metadata": {},
     "output_type": "display_data"
    },
    {
     "data": {
      "text/latex": [
       "$\\displaystyle \\left[\\begin{matrix}-0.7\\\\-2.8\\\\2.1\\end{matrix}\\right]$"
      ],
      "text/plain": [
       "⎡-0.7⎤\n",
       "⎢    ⎥\n",
       "⎢-2.8⎥\n",
       "⎢    ⎥\n",
       "⎣2.1 ⎦"
      ]
     },
     "metadata": {},
     "output_type": "display_data"
    },
    {
     "data": {
      "text/latex": [
       "$\\displaystyle \\left[\\begin{matrix}-1.4\\\\-5.6\\\\4.2\\end{matrix}\\right]$"
      ],
      "text/plain": [
       "⎡-1.4⎤\n",
       "⎢    ⎥\n",
       "⎢-5.6⎥\n",
       "⎢    ⎥\n",
       "⎣4.2 ⎦"
      ]
     },
     "metadata": {},
     "output_type": "display_data"
    },
    {
     "data": {
      "text/latex": [
       "$\\displaystyle \\left[\\begin{matrix}-1\\\\-4\\\\3\\end{matrix}\\right]$"
      ],
      "text/plain": [
       "⎡-1⎤\n",
       "⎢  ⎥\n",
       "⎢-4⎥\n",
       "⎢  ⎥\n",
       "⎣3 ⎦"
      ]
     },
     "metadata": {},
     "output_type": "display_data"
    },
    {
     "data": {
      "text/latex": [
       "$\\displaystyle \\left[\\begin{matrix}0\\\\0\\\\0\\end{matrix}\\right]$"
      ],
      "text/plain": [
       "⎡0⎤\n",
       "⎢ ⎥\n",
       "⎢0⎥\n",
       "⎢ ⎥\n",
       "⎣0⎦"
      ]
     },
     "metadata": {},
     "output_type": "display_data"
    },
    {
     "data": {
      "text/latex": [
       "$\\displaystyle \\left[\\begin{matrix}-1.4\\\\-5.6\\\\4.2\\end{matrix}\\right]$"
      ],
      "text/plain": [
       "⎡-1.4⎤\n",
       "⎢    ⎥\n",
       "⎢-5.6⎥\n",
       "⎢    ⎥\n",
       "⎣4.2 ⎦"
      ]
     },
     "metadata": {},
     "output_type": "display_data"
    },
    {
     "data": {
      "text/latex": [
       "$\\displaystyle \\left[\\begin{matrix}-1\\\\-4\\\\3\\end{matrix}\\right]$"
      ],
      "text/plain": [
       "⎡-1⎤\n",
       "⎢  ⎥\n",
       "⎢-4⎥\n",
       "⎢  ⎥\n",
       "⎣3 ⎦"
      ]
     },
     "metadata": {},
     "output_type": "display_data"
    },
    {
     "data": {
      "text/latex": [
       "$\\displaystyle \\left[\\begin{matrix}0\\\\0\\\\0\\end{matrix}\\right]$"
      ],
      "text/plain": [
       "⎡0⎤\n",
       "⎢ ⎥\n",
       "⎢0⎥\n",
       "⎢ ⎥\n",
       "⎣0⎦"
      ]
     },
     "metadata": {},
     "output_type": "display_data"
    },
    {
     "data": {
      "text/latex": [
       "$\\displaystyle \\left[\\begin{matrix}-0.7\\\\-2.8\\\\2.1\\end{matrix}\\right]$"
      ],
      "text/plain": [
       "⎡-0.7⎤\n",
       "⎢    ⎥\n",
       "⎢-2.8⎥\n",
       "⎢    ⎥\n",
       "⎣2.1 ⎦"
      ]
     },
     "metadata": {},
     "output_type": "display_data"
    }
   ],
   "source": [
    "G = sp.Matrix([g])\n",
    "g = sp.Matrix([1, 2, 3])\n",
    "for i in range(3):\n",
    "    G = G.col_insert(sp.shape(G)[1], i*0.7*g)\n",
    "display(G)\n",
    "for i in range(sp.shape(G)[1]):\n",
    "    f1 = G[:, i]\n",
    "    for j in range(sp.shape(G)[1]):\n",
    "        if not i==j:\n",
    "            f1 = G[:, j]\n",
    "            display(lie_bracket(f1, f2))"
   ]
  },
  {
   "cell_type": "code",
   "execution_count": 93,
   "metadata": {},
   "outputs": [
    {
     "data": {
      "text/latex": [
       "$\\displaystyle \\left[\\begin{matrix}1 & \\cos{\\left(x_{1} - x_{2} \\right)}\\end{matrix}\\right]$"
      ],
      "text/plain": [
       "[1  cos(x₁ - x₂)]"
      ]
     },
     "execution_count": 93,
     "metadata": {},
     "output_type": "execute_result"
    }
   ],
   "source": []
  },
  {
   "cell_type": "code",
   "execution_count": null,
   "metadata": {},
   "outputs": [],
   "source": []
  }
 ],
 "metadata": {
  "kernelspec": {
   "display_name": "matlab",
   "language": "python",
   "name": "matlab"
  },
  "language_info": {
   "codemirror_mode": {
    "name": "ipython",
    "version": 3
   },
   "file_extension": ".py",
   "mimetype": "text/x-python",
   "name": "python",
   "nbconvert_exporter": "python",
   "pygments_lexer": "ipython3",
   "version": "3.8.10"
  }
 },
 "nbformat": 4,
 "nbformat_minor": 4
}
