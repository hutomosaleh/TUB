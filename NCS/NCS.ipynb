{
 "cells": [
  {
   "cell_type": "code",
   "execution_count": 741,
   "metadata": {},
   "outputs": [],
   "source": [
    "from sympy.interactive import printing\n",
    "printing.init_printing(use_latex=True)\n",
    "from sympy import Eq, solve_linear_system, Matrix, Function\n",
    "from copy import deepcopy\n",
    "import numpy as np\n",
    "import sympy as sp"
   ]
  },
  {
   "cell_type": "code",
   "execution_count": 756,
   "metadata": {},
   "outputs": [],
   "source": [
    "def get_math_operator(s:str, inverse=False):\n",
    "    \"\"\" Need more operators! \"\"\"\n",
    "    if inverse:\n",
    "        s = s.replace('+', '-').replace('*', '/')\n",
    "    arr = []\n",
    "    s = s.replace(\" \", \"\")\n",
    "    for i in range(len(s)):\n",
    "        if s[i] in ['*', '+', '/', '-']:\n",
    "            arr.append(s[i])\n",
    "    return arr\n",
    "\n",
    "def evaluate_op(x, y, op: str):\n",
    "    if op == '*':\n",
    "        x *= y\n",
    "    elif op == '+':\n",
    "        x += y\n",
    "    elif op == '-':\n",
    "        x -= y\n",
    "    elif op == '/':\n",
    "        x /= y\n",
    "    return x\n",
    "\n",
    "def sort_states(states):\n",
    "    n = len(states)\n",
    "    st = [0 for i in range(n)]\n",
    "    ind = [int(str(i).replace(str(i)[0],\"\")) for i in states]\n",
    "    for i, val in enumerate(states):\n",
    "        st[ind[i]-1] = val\n",
    "    return st\n",
    "\n",
    "def diff_t(f, expressions):\n",
    "    f.free_symbols  # Get variables\n",
    "    df = \"\"\n",
    "    for i in f.free_symbols:\n",
    "        deriv = str(sp.diff(f, i)) + '*'\n",
    "        if '1.0*' in deriv:\n",
    "            deriv = deriv.replace('1.0*', '')\n",
    "        elif '1*' in deriv:\n",
    "            deriv = deriv.replace('1*', '')\n",
    "        i_d = deriv + str(i) + 'd'\n",
    "        df += i_d+\"+\"\n",
    "    df = df[0:-1]  # Remove excess operator\n",
    "    \n",
    "    ## Get operators and variables from String\n",
    "    Vd_operator = get_math_operator(df)\n",
    "    Vd_variable = df.replace('+', '*').replace('-', '*').split('*')\n",
    "    \n",
    "    ## Get math operator priority\n",
    "    hp = []  # High priority\n",
    "    lp = []\n",
    "    for i, val in enumerate(Vd_operator):\n",
    "        if val in ['*', '/']:\n",
    "            hp.append(i)\n",
    "        elif val in ['+', '-']:\n",
    "            lp.append(i)\n",
    "\n",
    "    ## Change df from str to sym\n",
    "    if lp == []:\n",
    "        Vd_new = [expressions[str(df)]]\n",
    "    else:\n",
    "        # Get multiplication/division syms\n",
    "        Vd_multi = []\n",
    "        Vd_new = []\n",
    "        i = 0\n",
    "        for i in hp:\n",
    "            var1 = expressions[Vd_variable[i]]\n",
    "            var2 = expressions[Vd_variable[i+1]]\n",
    "            Vd_multi.append(evaluate_op(var1, var2, Vd_operator[i]))\n",
    "        # Add/substract syms\n",
    "        for i, val in enumerate(lp):\n",
    "            if Vd_multi == []:\n",
    "                var1 = expressions[Vd_variable[i]]\n",
    "                var2 = expressions[Vd_variable[i+1]]\n",
    "            else:\n",
    "                var1 = Vd_multi[i]\n",
    "                var2 = Vd_multi[i+1]\n",
    "            Vd_new.append(evaluate_op(var1, var2, Vd_operator[val]))\n",
    "            \n",
    "    df = sp.factor(Vd_new[0])\n",
    "    return df\n",
    "\n",
    "def get_sym_dict(Xd):\n",
    "    n = len(Xd)\n",
    "    g = Matrix([Xd[i].coeff(u) for i in range(n)])\n",
    "    f = Xd - g*u\n",
    "    states = sort_states(f.free_symbols)\n",
    "    sym_dict = {f\"x{i+1}d\":Xd[i] for i in range(len(Xd))}\n",
    "    sym_dict.update({f\"x{i+1}\":val for i, val in enumerate(states)})\n",
    "    return sym_dict\n",
    "\n",
    "def evaluate_eigenvalue(w):\n",
    "    print(f\"Eigenvalues are: {w}\")\n",
    "    complex = (np.iscomplex(ew)).all()\n",
    "    if (np.real(w) < 0).all():\n",
    "        if not complex:\n",
    "            print(\"System is stable\")\n",
    "        else:\n",
    "            print(\"System is stable focus\")\n",
    "    elif (np.real(w) > 0).all():\n",
    "        print(\"System is unstable\")\n",
    "    elif (np.real(w) == 0).all():\n",
    "        print(\"Eigenvalue is pure imaginary, stability analysis not possible for nonlinear systems!\")\n",
    "        \n",
    "def get_relative_degree(A, y):\n",
    "    n = len(A)\n",
    "    g = Matrix([A[i].coeff(u) for i in range(n)])\n",
    "    f = A - g*u\n",
    "    states = sort_states(f.free_symbols)\n",
    "    v = 1\n",
    "    Lfh = y\n",
    "    for i in range(n):\n",
    "        LgLfh = g.T*Matrix([sp.diff(Lfh, i) for i in states])\n",
    "        print(f\"{v=} | LgLfh={LgLfh[0]} | Lfh={Lfh}\")\n",
    "        if not LgLfh[0]==0:\n",
    "            break\n",
    "        Lfh = f.T*Matrix([sp.diff(Lfh, i) for i in states])\n",
    "        v += 1\n",
    "    return v\n",
    "\n",
    "def check_lyapunov_stability(V, Xd):\n",
    "    # Derivate dV/dt\n",
    "    # Substitute x in Vd\n",
    "    # Check if negative definite\n",
    "    # If semi negdef, do la salle\n",
    "    return\n",
    "\n",
    "def transform_and_check_stability(Xd, Z_dict):\n",
    "    sym_dict = get_sym_dict(Xd)\n",
    "    z1d = diff_t(Z_dict['z1'], get_sym_dict(Xd))\n",
    "    z2d = diff_t(Z_dict['z2'], get_sym_dict(Xd))\n",
    "    z3d = diff_t(Z_dict['z3'], get_sym_dict(Xd))\n",
    "\n",
    "    for i in [x1, x2, x3]:\n",
    "        z1d = z1d.subs(i, Z_dict[str(i)])\n",
    "        z2d = z2d.subs(i, Z_dict[str(i)])\n",
    "        z3d = z3d.subs(i, Z_dict[str(i)])\n",
    "\n",
    "    # Find u\n",
    "    eq1 = sp.Function('eq1')\n",
    "    eq1 = Eq(z1d, v)\n",
    "    Z_dict['u'] = sp.solve(eq1, u)[0]\n",
    "    Z = Matrix([z2d, z3d])\n",
    "\n",
    "    # Evaluate internal dynamics\n",
    "    for i in range(len(Z)):\n",
    "        Z[i] = Z[i].subs([(u, Z_dict['u']), (v, 0), (z1, 0)])\n",
    "\n",
    "    display(Z)\n",
    "    Y = sp.Matrix([i  for i in Z.free_symbols])\n",
    "    A = Z.jacobian(Y)\n",
    "    for i in Y:\n",
    "        A = A.subs(i, 0)\n",
    "    display(A)\n",
    "    A = np.array(A).astype(np.float64)\n",
    "    try:\n",
    "        ew, ev = np.linalg.eig(A)\n",
    "        evaluate_eigenvalue(ew)\n",
    "    except TypeError:\n",
    "        print(\"Eigenvalue on the imaginary axis, stability analysis not possible!\")\n",
    "    return\n",
    "\n",
    "def get_z_sym(a, b, c):\n",
    "    Z = [z1, z2, z3]\n",
    "    Z_dict = {'z1': a, 'z2': b, 'z3': c}\n",
    "    Z_copy = deepcopy(Z_dict)\n",
    "    for i, val in enumerate(Z_copy.items()):\n",
    "        if len(str(val[1]))>3:\n",
    "            Vd_operator = get_math_operator(str(val[1]), inverse=True)\n",
    "            Vd_variable = str(val[1]).replace(\" \", '').replace('+', '*').replace('-', '*').split('*')\n",
    "            temp = (i, val)\n",
    "        else:\n",
    "            Z_dict.update({str(val[1]): Z[i]})\n",
    "    try:\n",
    "        if temp:\n",
    "            Z_dict.update({str(Vd_variable[0]): evaluate_op(Z[temp[0]], Z_dict[Vd_variable[1]], Vd_operator[0])})\n",
    "    except NameError:\n",
    "        pass\n",
    "        \n",
    "    return Z_dict"
   ]
  },
  {
   "cell_type": "code",
   "execution_count": 757,
   "metadata": {},
   "outputs": [],
   "source": [
    "x1, x2, x3, u = sp.symbols('x1 x2 x3 u')\n",
    "z1, z2, z3, v = sp.symbols('z1 z2 z3 v')"
   ]
  },
  {
   "cell_type": "code",
   "execution_count": 758,
   "metadata": {},
   "outputs": [],
   "source": [
    "x1d = x2 - x3\n",
    "x2d = -x1*x3 - 2*x2 + u\n",
    "x3d = x1 + u\n",
    "Xd = Matrix([x1d, x2d, x3d])"
   ]
  },
  {
   "cell_type": "code",
   "execution_count": 759,
   "metadata": {
    "scrolled": true
   },
   "outputs": [
    {
     "name": "stdout",
     "output_type": "stream",
     "text": [
      "v=1 | LgLfh=0 | Lfh=x1\n",
      "v=2 | LgLfh=0 | Lfh=Matrix([[x2 - x3]])\n",
      "v=3 | LgLfh=-x1 - 2 | Lfh=Matrix([[-x1*x3 - x1 - 2*x2]])\n",
      "Relative degree is 3\n"
     ]
    }
   ],
   "source": [
    "# Exercise 1a\n",
    "y = x1\n",
    "print(f\"Relative degree is {get_relative_degree(Xd, y)}\")"
   ]
  },
  {
   "cell_type": "code",
   "execution_count": 760,
   "metadata": {},
   "outputs": [
    {
     "name": "stdout",
     "output_type": "stream",
     "text": [
      "v=1 | LgLfh=1 | Lfh=x2\n",
      "Relative degree is 1\n"
     ]
    },
    {
     "data": {
      "text/latex": [
       "$\\displaystyle \\left[\\begin{matrix}- z_{3}\\\\z_{2} z_{3} + z_{2}\\end{matrix}\\right]$"
      ],
      "text/plain": [
       "⎡   -z₃    ⎤\n",
       "⎢          ⎥\n",
       "⎣z₂⋅z₃ + z₂⎦"
      ]
     },
     "metadata": {},
     "output_type": "display_data"
    },
    {
     "data": {
      "text/latex": [
       "$\\displaystyle \\left[\\begin{matrix}0 & -1\\\\1 & 0\\end{matrix}\\right]$"
      ],
      "text/plain": [
       "⎡0  -1⎤\n",
       "⎢     ⎥\n",
       "⎣1  0 ⎦"
      ]
     },
     "metadata": {},
     "output_type": "display_data"
    },
    {
     "name": "stdout",
     "output_type": "stream",
     "text": [
      "Eigenvalues are: [0.+1.j 0.-1.j]\n",
      "Eigenvalue is pure imaginary, stability analysis not possible for nonlinear systems!\n"
     ]
    }
   ],
   "source": [
    "# Exercise 1b\n",
    "y = x2\n",
    "print(f\"Relative degree is {get_relative_degree(Xd, y)}\")\n",
    "Z = get_z_sym(x2, x1, x3)\n",
    "transform_and_check_stability(Xd, Z)"
   ]
  },
  {
   "cell_type": "code",
   "execution_count": 761,
   "metadata": {},
   "outputs": [
    {
     "name": "stdout",
     "output_type": "stream",
     "text": [
      "v=1 | LgLfh=1 | Lfh=x3\n",
      "Relative degree is 1\n"
     ]
    },
    {
     "data": {
      "text/latex": [
       "$\\displaystyle \\left[\\begin{matrix}z_{3}\\\\- z_{2} - 2 z_{3}\\end{matrix}\\right]$"
      ],
      "text/plain": [
       "⎡    z₃    ⎤\n",
       "⎢          ⎥\n",
       "⎣-z₂ - 2⋅z₃⎦"
      ]
     },
     "metadata": {},
     "output_type": "display_data"
    },
    {
     "data": {
      "text/latex": [
       "$\\displaystyle \\left[\\begin{matrix}0 & 1\\\\-1 & -2\\end{matrix}\\right]$"
      ],
      "text/plain": [
       "⎡0   1 ⎤\n",
       "⎢      ⎥\n",
       "⎣-1  -2⎦"
      ]
     },
     "metadata": {},
     "output_type": "display_data"
    },
    {
     "name": "stdout",
     "output_type": "stream",
     "text": [
      "Eigenvalues are: [-1. -1.]\n",
      "System is stable focus\n"
     ]
    }
   ],
   "source": [
    "# Exercise 1c\n",
    "y = x3\n",
    "print(f\"Relative degree is {get_relative_degree(Xd, y)}\")\n",
    "Z = get_z_sym(y, x1, x2)\n",
    "transform_and_check_stability(Xd, Z)"
   ]
  },
  {
   "cell_type": "code",
   "execution_count": 762,
   "metadata": {},
   "outputs": [
    {
     "name": "stdout",
     "output_type": "stream",
     "text": [
      "v=1 | LgLfh=2 | Lfh=x2 + x3\n",
      "Relative degree is 1\n"
     ]
    },
    {
     "data": {
      "text/latex": [
       "$\\displaystyle \\left[\\begin{matrix}- 2 z_{3}\\\\\\frac{z_{2} z_{3}}{2} + \\frac{z_{2}}{2} - z_{3}\\end{matrix}\\right]$"
      ],
      "text/plain": [
       "⎡     -2⋅z₃     ⎤\n",
       "⎢               ⎥\n",
       "⎢z₂⋅z₃   z₂     ⎥\n",
       "⎢───── + ── - z₃⎥\n",
       "⎣  2     2      ⎦"
      ]
     },
     "metadata": {},
     "output_type": "display_data"
    },
    {
     "data": {
      "text/latex": [
       "$\\displaystyle \\left[\\begin{matrix}0 & -2\\\\\\frac{1}{2} & -1\\end{matrix}\\right]$"
      ],
      "text/plain": [
       "⎡ 0   -2⎤\n",
       "⎢       ⎥\n",
       "⎣1/2  -1⎦"
      ]
     },
     "metadata": {},
     "output_type": "display_data"
    },
    {
     "name": "stdout",
     "output_type": "stream",
     "text": [
      "Eigenvalues are: [-0.5+0.8660254j -0.5-0.8660254j]\n",
      "System is stable focus\n"
     ]
    }
   ],
   "source": [
    "# Exercise 1d\n",
    "y = x2 + x3\n",
    "print(f\"Relative degree is {get_relative_degree(Xd, y)}\")\n",
    "Z = get_z_sym(y, x1, x3)\n",
    "transform_and_check_stability(Xd, Z)"
   ]
  },
  {
   "cell_type": "code",
   "execution_count": 770,
   "metadata": {},
   "outputs": [
    {
     "name": "stdout",
     "output_type": "stream",
     "text": [
      "v=1 | LgLfh=0 | Lfh=x2\n",
      "v=2 | LgLfh=-1 | Lfh=Matrix([[x1 + x2**2]])\n",
      "Relative degree is 2\n"
     ]
    }
   ],
   "source": [
    "# Exercise 2\n",
    "x1d = x3 - u\n",
    "x2d = x1 + x2**2\n",
    "x3d = x2 - 2*x3 + u\n",
    "Xd = Matrix([x1d, x2d, x3d])\n",
    "\n",
    "y = x2\n",
    "print(f\"Relative degree is {get_relative_degree(Xd, y)}\")"
   ]
  },
  {
   "cell_type": "code",
   "execution_count": 771,
   "metadata": {},
   "outputs": [
    {
     "name": "stdout",
     "output_type": "stream",
     "text": [
      "Vd=-x1**4 - x2**4\n",
      "Vd=-x1**2 - x2**2\n",
      "Vd=-x1**4 - 2*x1**2*x2 - 3*x1**2 - x2**2\n",
      "Vd=-10*x1**2*(x1 - 2*x2)**2\n"
     ]
    }
   ],
   "source": [
    "# Lyapunov\n",
    "\n",
    "# Exercise 1\n",
    "x1d = -x1**3 + x1*x2**2\n",
    "x2d = -x1**2*x2 - x2**3\n",
    "Xd = sp.Matrix([x1d, x2d])\n",
    "V = 1/2*(x1**2 + x2**2)\n",
    "Vd = diff_t(V, get_sym_dict(Xd))\n",
    "print(f\"{Vd=}\")\n",
    "\n",
    "# Exercise 2\n",
    "x1d = 2*x2 - x1\n",
    "x2d = -2*x1 - x2\n",
    "Xd = sp.Matrix([x1d, x2d])\n",
    "V = 1/2*(x1**2 + x2**2)\n",
    "Vd = diff_t(V, get_sym_dict(Xd))\n",
    "print(f\"{Vd=}\")\n",
    "\n",
    "# Exercise 3.3\n",
    "x1d = -3*x1 - x1**3 - x1*x2\n",
    "x2d = -2*x1**2 - x2 + x1**2\n",
    "Xd = sp.Matrix([x1d, x2d])\n",
    "V = 1/2*(x1**2 + x2**2)\n",
    "Vd = diff_t(V, get_sym_dict(Xd))\n",
    "print(f\"{Vd=}\")\n",
    "\n",
    "# Exercise 3.4\n",
    "x1d = -40*x1*x2**2 + 10*x2 - 10*x1**3\n",
    "x2d = 40*x1**3 - 10*x1\n",
    "Xd = sp.Matrix([x1d, x2d])\n",
    "V = 1/2*(x1**2 + x2**2)\n",
    "Vd = diff_t(V, get_sym_dict(Xd))\n",
    "print(f\"{Vd=}\")"
   ]
  },
  {
   "cell_type": "code",
   "execution_count": null,
   "metadata": {},
   "outputs": [],
   "source": []
  }
 ],
 "metadata": {
  "kernelspec": {
   "display_name": "matlab",
   "language": "python",
   "name": "matlab"
  },
  "language_info": {
   "codemirror_mode": {
    "name": "ipython",
    "version": 3
   },
   "file_extension": ".py",
   "mimetype": "text/x-python",
   "name": "python",
   "nbconvert_exporter": "python",
   "pygments_lexer": "ipython3",
   "version": "3.8.10"
  }
 },
 "nbformat": 4,
 "nbformat_minor": 4
}
