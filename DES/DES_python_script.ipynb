{
 "cells": [
  {
   "cell_type": "code",
   "execution_count": 21,
   "id": "5f6eea57",
   "metadata": {},
   "outputs": [],
   "source": [
    "from sympy.interactive import printing\n",
    "printing.init_printing(use_latex=True)\n",
    "from sympy import Eq, solve_linear_system, Matrix\n",
    "from numpy import linalg\n",
    "import numpy as np\n",
    "import sympy as sp\n",
    "import copy"
   ]
  },
  {
   "cell_type": "markdown",
   "id": "2871db97",
   "metadata": {
    "scrolled": true
   },
   "source": [
    "### Python Script based on lecture 'Discrete Event System' of TU Berlin\n",
    "By: Hutomo Saleh \n",
    "#### To use, pip install:\n",
    "    - sympy\n",
    "    - numpy"
   ]
  },
  {
   "cell_type": "code",
   "execution_count": 22,
   "id": "1ea6b8d4",
   "metadata": {},
   "outputs": [],
   "source": [
    "\"\"\"\n",
    "    Functions for Enforceability\n",
    "\"\"\"\n",
    "def build_Aoc(A, index):\n",
    "    if isinstance(index, int):\n",
    "        return np.array(A[:, index])\n",
    "    if len(index) > 0:\n",
    "        arr = np.array(A[:, index[0]])\n",
    "        for i in index[1:]:\n",
    "            arr = np.vstack((arr, A[:, i]))\n",
    "        return arr.T\n",
    "    return 0\n",
    "\n",
    "def get_index_UU(A, gamma, i_uouc):\n",
    "    Auc = build_Aoc(A, i_uouc)\n",
    "    v = np.dot(-gamma, Auc)\n",
    "    return int((v != 0).nonzero()[0])\n",
    "\n",
    "def check_ideal_enforcable(A, gamma, i_ouc, i_uouc, x0, b):\n",
    "    Aouc = build_Aoc(A, i_ouc)\n",
    "    Auouc = build_Aoc(A, i_uouc)\n",
    "    \n",
    "    first = np.dot(-gamma, Aouc)\n",
    "    print(f\"{first} >= {0}\")\n",
    "    second = np.dot(-gamma, Auouc)\n",
    "    print(f\"{second} == {0}\")\n",
    "    third = np.dot(gamma, x0)\n",
    "    print(f\"{third} <= {b}\")\n",
    "    Ac = np.dot(-gamma, A)\n",
    "    print(\"Ac:\")\n",
    "    show(Ac)\n",
    "    \n",
    "    if np.all(np.dot(-gamma, Aouc) >= 0) and np.all(np.dot(-gamma, Auouc) == 0) and np.all(np.dot(gamma, x0) <= b):\n",
    "        print(\"Yes, It is ideally enforceable\")\n",
    "        return True\n",
    "    else:\n",
    "        print(\"It is NOT ideally enforceable\")\n",
    "        return False\n",
    "\n",
    "def stricter_algorithm(A, gamma, i_ouc, i_uouc=None):\n",
    "    if gamma.ndim > 1:\n",
    "        print(\"Specification must be 1 dimensional. Or run the algorithm for each gamma one by one!\")\n",
    "        return False\n",
    "    \n",
    "    \"\"\"\n",
    "        Make n by m C Matrix\n",
    "    \"\"\"\n",
    "    n = np.shape(A)[0]\n",
    "    Auc = build_Aoc(A, i_ouc)\n",
    "    try:\n",
    "        if Auc.ndim == 1:\n",
    "            Auc = Auc.reshape(-1, 1)\n",
    "    except AttributeError:\n",
    "        pass\n",
    "\n",
    "    \"\"\"\n",
    "        Observable but unpreventable Transition\n",
    "    \"\"\"\n",
    "    if i_uouc is None:\n",
    "        I = np.identity(n)\n",
    "        v = np.dot(gamma, Auc)\n",
    "        C = np.concatenate((Auc, I, np.zeros((n, 1))), axis=1)\n",
    "        last_row = np.append(np.concatenate((v, np.zeros(n))), 1)\n",
    "        C = np.vstack((C, last_row))\n",
    "        print(f\"C:\")\n",
    "        show(C)\n",
    "        \n",
    "        while not (np.all(v <= 0)):\n",
    "            for i, val in enumerate(v):\n",
    "                if(val > 0):\n",
    "                    I = []\n",
    "                    for k, val in enumerate(Auc[:, i]):\n",
    "                        if(val < 0):\n",
    "                            I.append(k)\n",
    "                    if I == []:\n",
    "                        print(\"No result\")\n",
    "                        return None\n",
    "                    print(f\"I: {I}\")\n",
    "                    for i_ in I:\n",
    "                        d = np.lcm(int(abs(Auc[i_, i])), int(abs(v[i])))\n",
    "                        C_end = d/abs(v[i]) * C[-1, :] + d/abs(Auc[i_, i]) * C[i_, :]\n",
    "                        spec = C_end[1:-1] + gamma\n",
    "                        Ac = np.dot(-spec, A)\n",
    "                        print(f\"C last row: {C_end}\")\n",
    "                        print(f\"Spec: {spec}\")\n",
    "                        print(f\"Ac: {Ac}\")\n",
    "                    if not (np.all(C_end[-(n+1):-1] == 0)):\n",
    "                        C[-1, :] = C_end\n",
    "                        v = C_end[:-(n+1)]\n",
    "                        break\n",
    "    \n",
    "    \"\"\"\n",
    "        Unobservable and unpreventable Transition\n",
    "    \"\"\"\n",
    "    if i_uouc:\n",
    "        Auouc = build_Aoc(A, i_uouc)\n",
    "        try:\n",
    "            if Auouc.ndim == 1:\n",
    "                Auouc = Auouc.reshape(-1, 1)\n",
    "        except AttributeError:\n",
    "            pass\n",
    "        I = np.identity(n)\n",
    "        v = np.dot(gamma, Auc)\n",
    "        u = np.dot(gamma, Auouc)\n",
    "        if isinstance(Auc, int):\n",
    "            C = np.concatenate((Auouc, I, np.zeros((n, 1))), axis=1)\n",
    "            last_row = np.append(np.concatenate((u, np.zeros(n))), 1)\n",
    "        else:\n",
    "            C = np.concatenate((Auc, Auouc, I, np.zeros((n, 1))), axis=1)\n",
    "            last_row = np.append(np.concatenate((u, v, np.zeros(n))), 1)\n",
    "        C = np.vstack((C, last_row))\n",
    "        print(f\"C:\")\n",
    "        show(C)\n",
    "        \n",
    "        if not isinstance(Auc, int):\n",
    "            while not (np.all(v <= 0)):\n",
    "                for i, val in enumerate(v):\n",
    "                    if(val > 0):\n",
    "                        I = []\n",
    "                        for k, val in enumerate(Auc[:, i]):\n",
    "                            if(val < 0):\n",
    "                                I.append(k)\n",
    "                        if I == []:\n",
    "                            print(\"No result\")\n",
    "                            return None\n",
    "                        print(f\"I: {I}\")\n",
    "                        for i_ in I:\n",
    "                            d = np.lcm(int(abs(Auc[i_, i])), int(abs(v[i])))\n",
    "                            C_end = d/abs(v[i]) * C[-1, :] + d/abs(Auc[i_, i]) * C[i_, :]\n",
    "                            spec = C_end[1:-1] + gamma\n",
    "                            Ac = np.dot(-spec, A)\n",
    "                            print(f\"C last row: {C_end}\")\n",
    "                            print(f\"Spec: {spec}\")\n",
    "                            print(f\"Ac: {Ac}\")\n",
    "                        if not (np.all(C_end[-(n+1):-1] == 0)):\n",
    "                            C[-1, :] = C_end\n",
    "                            v = C_end[:-(n+1)]\n",
    "                            break\n",
    "        \n",
    "        while not (np.all(u == 0)):\n",
    "            for l, val in enumerate(u):\n",
    "                if(val != 0):\n",
    "                    Z = []\n",
    "                    for k, val in enumerate(Auouc[:, l]):\n",
    "                        if (val != 0) and (np.sign(val) != np.sign(u[l])):\n",
    "                            Z.append(k)\n",
    "                    if Z == []:\n",
    "                        print(\"No result\")\n",
    "                        return None\n",
    "                    print(f\"Z: {Z}\")\n",
    "                    for z_ in Z:\n",
    "                        d = np.lcm(int(abs(Auouc[z_, l])), int(abs(u[l])))\n",
    "                        C_end = d/abs(u[l]) * C[-1, :] + d/abs(Auouc[z_, l]) * C[z_, :]\n",
    "                        spec = C_end[-(n+1):-1] + gamma\n",
    "                        Ac = np.dot(-spec, A)\n",
    "                        print(f\"C last row: {C_end}\")\n",
    "                        print(f\"Spec: {spec}\")\n",
    "                        print(f\"Ac: {Ac}\")\n",
    "                    if not (np.all(C_end[-(n+1):-1] == 0)):\n",
    "                        C[-1, :] = C_end\n",
    "                        u = C_end[:-(n+1)]\n",
    "                        break"
   ]
  },
  {
   "cell_type": "code",
   "execution_count": 23,
   "id": "15ccfe0d",
   "metadata": {},
   "outputs": [],
   "source": [
    "\"\"\"\n",
    "    Functions for State Space Equations\n",
    "\"\"\"\n",
    "\n",
    "# o = sp.symbols('ε')  # ε Epsilon = -inf | Can be changed into any symbol\n",
    "o = sp.symbols('.')  # For clarity, instead of epsilon\n",
    "\n",
    "def N(*args):\n",
    "    \"\"\"\n",
    "        Returns n by m N matrix\n",
    "    \"\"\"\n",
    "    if isinstance(args[0], tuple):\n",
    "        n = args[0][0]\n",
    "        m = args[0][1]\n",
    "    else:\n",
    "        n = args[0]\n",
    "        m = args[1]\n",
    "    return np.array([[o for k in range(n)] for i in range(m)])\n",
    "\n",
    "def E(*args):\n",
    "    \"\"\"\n",
    "        Returns n by m E matrix\n",
    "    \"\"\"\n",
    "    if isinstance(args[0], tuple):\n",
    "        n = args[0][0]\n",
    "        m = args[0][1]\n",
    "    else:\n",
    "        n = args[0]\n",
    "        m = args[1]\n",
    "    arr = N(n, m)\n",
    "    for i in range(n):\n",
    "        arr[i, i] = 0\n",
    "    return arr\n",
    "\n",
    "def _identical(A, B):\n",
    "    it = np.nditer(A, flags=['multi_index', \"refs_ok\"])\n",
    "    for x in it:\n",
    "        index = it.multi_index\n",
    "        if (A[index] != B[index]): return False\n",
    "    return True\n",
    "\n",
    "def get_A0_(A, verbose=True):\n",
    "    k = 1\n",
    "    Ak = A\n",
    "    while not _identical(Ak, N(np.shape(A))):\n",
    "        Ak = mul_matrix(Ak, A)\n",
    "        k += 1\n",
    "        if k > np.shape(A)[0]:\n",
    "            if verbose: print(\"Cannot compute A0*, there exist a circuit\")\n",
    "            return None\n",
    "    print(f\"K is {k}\")\n",
    "    \n",
    "    # Calculate A0_\n",
    "    A0_ = E(np.shape(A))\n",
    "    Ak = copy.deepcopy(A)\n",
    "    for i in range(k):\n",
    "        if i > 0:\n",
    "            Ak = mul_matrix(Ak, A)\n",
    "        A0_ = add_matrix(A0_, Ak)\n",
    "    return A0_\n",
    "\n",
    "def max_sym(*nums):\n",
    "    # Max-plus max\n",
    "    if len(nums) == 1:\n",
    "        nums = nums[0]\n",
    "    res = o\n",
    "    for n in nums:\n",
    "        if n != o:\n",
    "            if res == o:\n",
    "                res = n\n",
    "            elif (n > res):\n",
    "                res = n\n",
    "    return res\n",
    "\n",
    "def sum_sym(*nums):\n",
    "    # Max-plus summation\n",
    "    if len(nums) == 1:\n",
    "        nums = nums[0]\n",
    "    res = 0\n",
    "    for n in nums:\n",
    "        if n == o:\n",
    "            return o\n",
    "        else:\n",
    "            res += n\n",
    "    return res\n",
    "    \n",
    "def add_matrix(A, B):\n",
    "    # Max-plus matrix addition\n",
    "    n = np.shape(A)[0]\n",
    "    m = np.shape(B)[1]\n",
    "    arr = sp.Matrix(np.zeros((n, m)))\n",
    "    for i in range(n):\n",
    "        for j in range(m):\n",
    "            arr[i, j] = max_sym(A[i, j], B[i, j])\n",
    "    return np.array(arr)\n",
    "\n",
    "def mul_matrix(A, B):\n",
    "    # Max-plus matrix multiplication\n",
    "    try:\n",
    "        n = np.shape(A)[0]\n",
    "        m = np.shape(B)[1]\n",
    "        arr = sp.Matrix(np.zeros((n, m)))\n",
    "        for i in range(n):\n",
    "            for j in range(m):\n",
    "                row = A[i, [k for k in range(n)]]\n",
    "                col = B[[k for k in range(n)], j]\n",
    "                arr[i, j] = max_sym([sum_sym(row[k], col[k]) for k in range(n)])\n",
    "    except IndexError:\n",
    "        arr = B\n",
    "        it = np.nditer(B, flags=['multi_index', \"refs_ok\"])\n",
    "        for x in it:\n",
    "            index = it.multi_index\n",
    "            arr[index] = sum_sym(B[index], A)\n",
    "    return np.array(arr)\n",
    "\n",
    "def trace(mat):\n",
    "    n, m = np.shape(mat)\n",
    "    if not n == m:\n",
    "        print(\"Input must be a square matrix\")\n",
    "        return None\n",
    "    res = max_sym(mat[0, 0], mat[1, 1])\n",
    "    for i in range(2, n):\n",
    "        res = max_sym(res, mat[i, i])\n",
    "    return res\n",
    "\n",
    "def get_lambda(mat, max_throughput=False):\n",
    "    \"\"\"\n",
    "        returns lambda value using theorem 3.3\n",
    "        does NOT check for irreducibilty\n",
    "    \"\"\"\n",
    "    n, m = np.shape(mat)\n",
    "    if not n == m:\n",
    "        print(\"Input must be a square matrix\")\n",
    "        return None\n",
    "    lambda_ = o\n",
    "    Aj = copy.deepcopy(mat)\n",
    "    for i in range(n):\n",
    "        if i >= 1:\n",
    "            Aj = mul_matrix(Aj, mat)\n",
    "        lambda_ = max_sym(lambda_, trace(Aj)/(i+1))\n",
    "    if max_throughput:\n",
    "        print(f\"Max throughput: {1/lambda_}\")\n",
    "    return lambda_\n",
    "\n",
    "def get_eigen(mat, verbose=False):\n",
    "    \"\"\"\n",
    "        returns lambda and eigenvectors\n",
    "        of an irreducible matrix\n",
    "    \"\"\"\n",
    "    n, _ = np.shape(mat)\n",
    "    lambda_ = get_lambda(A)\n",
    "    Q = mul_matrix(-lambda_, A)\n",
    "    Q_pow = Q\n",
    "    Q_star = add_matrix(E(np.shape(A)), Q)\n",
    "    for i in range(2, n):\n",
    "        Q_pow = mul_matrix(Q_pow, Q)\n",
    "        Q_star = add_matrix(Q_star, Q_pow)\n",
    "    Q_plus = mul_matrix(Q, Q_star)\n",
    "    if verbose:\n",
    "        print(\"\\u03BB: \", l)\n",
    "        print(\"Q+ = Q x Q*: \")\n",
    "        _show(Q_plus)\n",
    "    return Q_plus, lambda_\n",
    "\n",
    "def get_ss_mats(*matrices):\n",
    "    a0 = matrices[0]\n",
    "    a0_ = get_A0_(a0)\n",
    "    if not a0_: print(\"Circuit exists!\")\n",
    "    SS = []\n",
    "    for mat in matrices[1:]:\n",
    "        arr = mul_matrix(a0_, mat)\n",
    "        SS.append(arr)\n",
    "    return SS\n",
    "\n",
    "def get_trajectory(A, x0, n=5):\n",
    "    v = mul_matrix(A, x0)\n",
    "    _show(v)\n",
    "    for i in range(2, n):\n",
    "        v = mul_matrix(A, v)\n",
    "        _show(v)\n",
    "        \n",
    "def s(n):\n",
    "    # Function for printing superscripts\n",
    "    return \"\".join([\"⁰¹²³⁴⁵⁶⁷⁸⁹\"[ord(c)-ord('0')] for c in str(n)]) \n",
    "\n",
    "def show(mat):\n",
    "    if isinstance(mat, list):\n",
    "        for i in mat:\n",
    "            show(i)\n",
    "    else:\n",
    "        return display(sp.Matrix(mat))\n",
    "\n",
    "def _show(mat):\n",
    "    e = sp.symbols('e')\n",
    "    arr = copy.deepcopy(mat)\n",
    "    it = np.nditer(mat, flags=['multi_index', \"refs_ok\"])\n",
    "    for x in it:\n",
    "        if x == 0:\n",
    "            index = it.multi_index\n",
    "            arr[index] = e\n",
    "    show(arr)"
   ]
  },
  {
   "cell_type": "markdown",
   "id": "a2266452",
   "metadata": {},
   "source": [
    "### Graded Homework"
   ]
  },
  {
   "cell_type": "code",
   "execution_count": 15,
   "id": "6cf711f5",
   "metadata": {},
   "outputs": [],
   "source": [
    "    # HELPER Comment for indexing\n",
    "    #1  2  3  4  5  6  7  8  9 10 11 12 13 14\n",
    "\n",
    "    # FROM →\n",
    "    # TO ↓\n",
    "\n",
    "\"\"\"\n",
    "    phi 1\n",
    "\"\"\"\n",
    "A0 = np.array([\n",
    "    #1  2  3  4  5  6  7  8  9 10 11 12 13 14\n",
    "    [o, o, o, o, o, o, o, o, o, o, o, o, o, o], # 1\n",
    "    [6, o, o, o, o, o, o, o, o, o, o, o, o, o], # 2\n",
    "    [o, 0, o, o, o, o, o, o, o, 0, o, o, o, o], # 3\n",
    "    [o, o, 4, o, o, o, o, o, o, o, o, o, o, o], # 4\n",
    "    [o, o, o, 0, o, o, o, o, o, o, o, o, o, o], # 5\n",
    "    [o, o, o, o, 3, o, o, o, o, o, o, o, o, o], # 6\n",
    "    [o, 0, o, o, o, o, o, o, o, o, o, o, o, o], # 7\n",
    "    [o, o, o, o, o, o, 5, o, o, o, o, o, o, o], # 8\n",
    "    [o, o, o, o, o, o, o, 0, o, o, o, o, o, 0], # 9\n",
    "    [o, o, o, o, o, o, o, o, 3, o, o, o, o, o], # 10\n",
    "    [o, o, o, o, o, 0, o, o, o, o, o, o, o, o], # 11\n",
    "    [o, o, o, o, o, o, o, o, o, o, 4, o, o, o], # 12\n",
    "    [o, o, o, o, o, o, o, o, o, o, o, 0, o, o], # 13\n",
    "    [o, o, o, o, o, o, o, o, o, o, o, o, 3, o]  # 14\n",
    "    ])\n",
    "\n",
    "A1 = np.array([\n",
    "    #1  2  3  4  5  6  7  8  9 10 11 12 13 14\n",
    "    [o, o, o, o, o, o, o, 0, o, o, o, o, o, o], # 1\n",
    "    [o, o, o, o, o, o, o, o, o, o, o, o, o, o], # 2\n",
    "    [o, o, o, o, o, o, o, o, o, o, o, o, o, o], # 3\n",
    "    [o, o, o, o, o, o, o, o, o, o, o, o, o, o], # 4\n",
    "    [o, o, o, o, o, o, o, o, o, o, o, 0, o, o], # 5\n",
    "    [o, o, o, o, o, o, o, o, o, o, o, o, o, o], # 6\n",
    "    [o, o, o, o, o, o, o, o, o, o, o, o, o, o], # 7\n",
    "    [o, o, o, o, o, o, o, o, o, o, o, o, o, o], # 8\n",
    "    [o, o, o, o, o, o, o, o, o, o, o, o, o, o], # 9\n",
    "    [o, o, o, o, o, o, o, o, o, o, o, o, o, o], # 10\n",
    "    [o, o, o, o, o, o, o, o, o, o, o, o, o, o], # 11\n",
    "    [o, o, o, o, o, o, o, o, o, o, o, o, o, o], # 12\n",
    "    [o, o, o, 0, o, o, o, o, o, o, o, o, o, o], # 13\n",
    "    [o, o, o, o, o, o, o, o, o, o, o, o, o, o]  # 14\n",
    "    ])"
   ]
  },
  {
   "cell_type": "code",
   "execution_count": 16,
   "id": "7c50c23a",
   "metadata": {},
   "outputs": [
    {
     "name": "stdout",
     "output_type": "stream",
     "text": [
      "A0: \n"
     ]
    },
    {
     "data": {
      "text/latex": [
       "$\\displaystyle \\left[\\begin{array}{cccccccccccccc}. & . & . & . & . & . & . & . & . & . & . & . & . & .\\\\6 & . & . & . & . & . & . & . & . & . & . & . & . & .\\\\. & e & . & . & . & . & . & . & . & e & . & . & . & .\\\\. & . & 4 & . & . & . & . & . & . & . & . & . & . & .\\\\. & . & . & e & . & . & . & . & . & . & . & . & . & .\\\\. & . & . & . & 3 & . & . & . & . & . & . & . & . & .\\\\. & e & . & . & . & . & . & . & . & . & . & . & . & .\\\\. & . & . & . & . & . & 5 & . & . & . & . & . & . & .\\\\. & . & . & . & . & . & . & e & . & . & . & . & . & e\\\\. & . & . & . & . & . & . & . & 3 & . & . & . & . & .\\\\. & . & . & . & . & e & . & . & . & . & . & . & . & .\\\\. & . & . & . & . & . & . & . & . & . & 4 & . & . & .\\\\. & . & . & . & . & . & . & . & . & . & . & e & . & .\\\\. & . & . & . & . & . & . & . & . & . & . & . & 3 & .\\end{array}\\right]$"
      ],
      "text/plain": [
       "⎡.  .  .  .  .  .  .  .  .  .  .  .  .  .⎤\n",
       "⎢                                        ⎥\n",
       "⎢6  .  .  .  .  .  .  .  .  .  .  .  .  .⎥\n",
       "⎢                                        ⎥\n",
       "⎢.  e  .  .  .  .  .  .  .  e  .  .  .  .⎥\n",
       "⎢                                        ⎥\n",
       "⎢.  .  4  .  .  .  .  .  .  .  .  .  .  .⎥\n",
       "⎢                                        ⎥\n",
       "⎢.  .  .  e  .  .  .  .  .  .  .  .  .  .⎥\n",
       "⎢                                        ⎥\n",
       "⎢.  .  .  .  3  .  .  .  .  .  .  .  .  .⎥\n",
       "⎢                                        ⎥\n",
       "⎢.  e  .  .  .  .  .  .  .  .  .  .  .  .⎥\n",
       "⎢                                        ⎥\n",
       "⎢.  .  .  .  .  .  5  .  .  .  .  .  .  .⎥\n",
       "⎢                                        ⎥\n",
       "⎢.  .  .  .  .  .  .  e  .  .  .  .  .  e⎥\n",
       "⎢                                        ⎥\n",
       "⎢.  .  .  .  .  .  .  .  3  .  .  .  .  .⎥\n",
       "⎢                                        ⎥\n",
       "⎢.  .  .  .  .  e  .  .  .  .  .  .  .  .⎥\n",
       "⎢                                        ⎥\n",
       "⎢.  .  .  .  .  .  .  .  .  .  4  .  .  .⎥\n",
       "⎢                                        ⎥\n",
       "⎢.  .  .  .  .  .  .  .  .  .  .  e  .  .⎥\n",
       "⎢                                        ⎥\n",
       "⎣.  .  .  .  .  .  .  .  .  .  .  .  3  .⎦"
      ]
     },
     "metadata": {},
     "output_type": "display_data"
    },
    {
     "name": "stdout",
     "output_type": "stream",
     "text": [
      "A1: \n"
     ]
    },
    {
     "data": {
      "text/latex": [
       "$\\displaystyle \\left[\\begin{array}{cccccccccccccc}. & . & . & . & . & . & . & e & . & . & . & . & . & .\\\\. & . & . & . & . & . & . & . & . & . & . & . & . & .\\\\. & . & . & . & . & . & . & . & . & . & . & . & . & .\\\\. & . & . & . & . & . & . & . & . & . & . & . & . & .\\\\. & . & . & . & . & . & . & . & . & . & . & e & . & .\\\\. & . & . & . & . & . & . & . & . & . & . & . & . & .\\\\. & . & . & . & . & . & . & . & . & . & . & . & . & .\\\\. & . & . & . & . & . & . & . & . & . & . & . & . & .\\\\. & . & . & . & . & . & . & . & . & . & . & . & . & .\\\\. & . & . & . & . & . & . & . & . & . & . & . & . & .\\\\. & . & . & . & . & . & . & . & . & . & . & . & . & .\\\\. & . & . & . & . & . & . & . & . & . & . & . & . & .\\\\. & . & . & e & . & . & . & . & . & . & . & . & . & .\\\\. & . & . & . & . & . & . & . & . & . & . & . & . & .\\end{array}\\right]$"
      ],
      "text/plain": [
       "⎡.  .  .  .  .  .  .  e  .  .  .  .  .  .⎤\n",
       "⎢                                        ⎥\n",
       "⎢.  .  .  .  .  .  .  .  .  .  .  .  .  .⎥\n",
       "⎢                                        ⎥\n",
       "⎢.  .  .  .  .  .  .  .  .  .  .  .  .  .⎥\n",
       "⎢                                        ⎥\n",
       "⎢.  .  .  .  .  .  .  .  .  .  .  .  .  .⎥\n",
       "⎢                                        ⎥\n",
       "⎢.  .  .  .  .  .  .  .  .  .  .  e  .  .⎥\n",
       "⎢                                        ⎥\n",
       "⎢.  .  .  .  .  .  .  .  .  .  .  .  .  .⎥\n",
       "⎢                                        ⎥\n",
       "⎢.  .  .  .  .  .  .  .  .  .  .  .  .  .⎥\n",
       "⎢                                        ⎥\n",
       "⎢.  .  .  .  .  .  .  .  .  .  .  .  .  .⎥\n",
       "⎢                                        ⎥\n",
       "⎢.  .  .  .  .  .  .  .  .  .  .  .  .  .⎥\n",
       "⎢                                        ⎥\n",
       "⎢.  .  .  .  .  .  .  .  .  .  .  .  .  .⎥\n",
       "⎢                                        ⎥\n",
       "⎢.  .  .  .  .  .  .  .  .  .  .  .  .  .⎥\n",
       "⎢                                        ⎥\n",
       "⎢.  .  .  .  .  .  .  .  .  .  .  .  .  .⎥\n",
       "⎢                                        ⎥\n",
       "⎢.  .  .  e  .  .  .  .  .  .  .  .  .  .⎥\n",
       "⎢                                        ⎥\n",
       "⎣.  .  .  .  .  .  .  .  .  .  .  .  .  .⎦"
      ]
     },
     "metadata": {},
     "output_type": "display_data"
    },
    {
     "name": "stdout",
     "output_type": "stream",
     "text": [
      "Cannot compute A0*, there exist a circuit\n",
      "A0*: \n"
     ]
    }
   ],
   "source": [
    "print(\"A0: \")\n",
    "_show(A0)\n",
    "print(\"A1: \")\n",
    "_show(A1)\n",
    "A0_ = get_A0_(A0)\n",
    "print(\"A0*: \")"
   ]
  },
  {
   "cell_type": "code",
   "execution_count": 17,
   "id": "a674bb1b",
   "metadata": {
    "scrolled": true
   },
   "outputs": [],
   "source": [
    "\"\"\"\n",
    "    phi 2\n",
    "\"\"\"\n",
    "A0 = np.array([\n",
    "    #1  2  3  4  5  6  7  8  9 10 11 12 13 14\n",
    "    [o, o, o, o, o, o, o, 0, o, o, o, o, o, o], # 1\n",
    "    [6, o, o, o, o, o, o, o, o, o, o, o, o, o], # 2\n",
    "    [o, 0, o, o, o, o, o, o, o, 0, o, o, o, o], # 3\n",
    "    [o, o, 4, o, o, o, o, o, o, o, o, o, o, o], # 4\n",
    "    [o, o, o, 0, o, o, o, o, o, o, o, 0, o, o], # 5\n",
    "    [o, o, o, o, 3, o, o, o, o, o, o, o, o, o], # 6\n",
    "    [o, o, o, o, o, o, o, o, o, o, o, o, o, o], # 7\n",
    "    [o, o, o, o, o, o, 5, o, o, o, o, o, o, o], # 8\n",
    "    [o, o, o, o, o, o, o, 0, o, o, o, o, o, 0], # 9\n",
    "    [o, o, o, o, o, o, o, o, 3, o, o, o, o, o], # 10\n",
    "    [o, o, o, o, o, o, o, o, o, o, o, o, o, o], # 11\n",
    "    [o, o, o, o, o, o, o, o, o, o, 4, o, o, o], # 12\n",
    "    [o, o, o, o, o, o, o, o, o, o, o, 0, o, o], # 13\n",
    "    [o, o, o, o, o, o, o, o, o, o, o, o, 3, o]  # 14\n",
    "    ])\n",
    "A1 = np.array([\n",
    "    #1  2  3  4  5  6  7  8  9 10 11 12 13 14\n",
    "    [o, o, o, o, o, o, o, o, o, o, o, o, o, o], # 1\n",
    "    [o, o, o, o, o, o, o, o, o, o, o, o, o, o], # 2\n",
    "    [o, o, o, o, o, o, o, o, o, o, o, o, o, o], # 3\n",
    "    [o, o, o, o, o, o, o, o, o, o, o, o, o, o], # 4\n",
    "    [o, o, o, o, o, o, o, o, o, o, o, o, o, o], # 5\n",
    "    [o, o, o, o, o, o, o, o, o, o, o, o, o, o], # 6\n",
    "    [o, 0, o, o, o, o, o, o, o, o, o, o, o, o], # 7\n",
    "    [o, o, o, o, o, o, o, o, o, o, o, o, o, o], # 8\n",
    "    [o, o, o, o, o, o, o, o, o, o, o, o, o, o], # 9\n",
    "    [o, o, o, o, o, o, o, o, o, o, o, o, o, o], # 10\n",
    "    [o, o, o, o, o, 0, o, o, o, o, o, o, o, o], # 11\n",
    "    [o, o, o, o, o, o, o, o, o, o, o, o, o, o], # 12\n",
    "    [o, o, o, 0, o, o, o, o, o, o, o, o, o, o], # 13\n",
    "    [o, o, o, o, o, o, o, o, o, o, o, o, o, o]  # 14\n",
    "    ])"
   ]
  },
  {
   "cell_type": "code",
   "execution_count": 12,
   "id": "6b8bb93e",
   "metadata": {
    "scrolled": true
   },
   "outputs": [
    {
     "name": "stdout",
     "output_type": "stream",
     "text": [
      "A0: \n"
     ]
    },
    {
     "data": {
      "text/latex": [
       "$\\displaystyle \\left[\\begin{array}{cccccccccccccc}. & . & . & . & . & . & . & e & . & . & . & . & . & .\\\\6 & . & . & . & . & . & . & . & . & . & . & . & . & .\\\\. & e & . & . & . & . & . & . & . & e & . & . & . & .\\\\. & . & 4 & . & . & . & . & . & . & . & . & . & . & .\\\\. & . & . & e & . & . & . & . & . & . & . & e & . & .\\\\. & . & . & . & 3 & . & . & . & . & . & . & . & . & .\\\\. & . & . & . & . & . & . & . & . & . & . & . & . & .\\\\. & . & . & . & . & . & 5 & . & . & . & . & . & . & .\\\\. & . & . & . & . & . & . & e & . & . & . & . & . & e\\\\. & . & . & . & . & . & . & . & 3 & . & . & . & . & .\\\\. & . & . & . & . & . & . & . & . & . & . & . & . & .\\\\. & . & . & . & . & . & . & . & . & . & 4 & . & . & .\\\\. & . & . & . & . & . & . & . & . & . & . & e & . & .\\\\. & . & . & . & . & . & . & . & . & . & . & . & 3 & .\\end{array}\\right]$"
      ],
      "text/plain": [
       "⎡.  .  .  .  .  .  .  e  .  .  .  .  .  .⎤\n",
       "⎢                                        ⎥\n",
       "⎢6  .  .  .  .  .  .  .  .  .  .  .  .  .⎥\n",
       "⎢                                        ⎥\n",
       "⎢.  e  .  .  .  .  .  .  .  e  .  .  .  .⎥\n",
       "⎢                                        ⎥\n",
       "⎢.  .  4  .  .  .  .  .  .  .  .  .  .  .⎥\n",
       "⎢                                        ⎥\n",
       "⎢.  .  .  e  .  .  .  .  .  .  .  e  .  .⎥\n",
       "⎢                                        ⎥\n",
       "⎢.  .  .  .  3  .  .  .  .  .  .  .  .  .⎥\n",
       "⎢                                        ⎥\n",
       "⎢.  .  .  .  .  .  .  .  .  .  .  .  .  .⎥\n",
       "⎢                                        ⎥\n",
       "⎢.  .  .  .  .  .  5  .  .  .  .  .  .  .⎥\n",
       "⎢                                        ⎥\n",
       "⎢.  .  .  .  .  .  .  e  .  .  .  .  .  e⎥\n",
       "⎢                                        ⎥\n",
       "⎢.  .  .  .  .  .  .  .  3  .  .  .  .  .⎥\n",
       "⎢                                        ⎥\n",
       "⎢.  .  .  .  .  .  .  .  .  .  .  .  .  .⎥\n",
       "⎢                                        ⎥\n",
       "⎢.  .  .  .  .  .  .  .  .  .  4  .  .  .⎥\n",
       "⎢                                        ⎥\n",
       "⎢.  .  .  .  .  .  .  .  .  .  .  e  .  .⎥\n",
       "⎢                                        ⎥\n",
       "⎣.  .  .  .  .  .  .  .  .  .  .  .  3  .⎦"
      ]
     },
     "metadata": {},
     "output_type": "display_data"
    },
    {
     "name": "stdout",
     "output_type": "stream",
     "text": [
      "A1: \n"
     ]
    },
    {
     "data": {
      "text/latex": [
       "$\\displaystyle \\left[\\begin{array}{cccccccccccccc}. & . & . & . & . & . & . & . & . & . & . & . & . & .\\\\. & . & . & . & . & . & . & . & . & . & . & . & . & .\\\\. & . & . & . & . & . & . & . & . & . & . & . & . & .\\\\. & . & . & . & . & . & . & . & . & . & . & . & . & .\\\\. & . & . & . & . & . & . & . & . & . & . & . & . & .\\\\. & . & . & . & . & . & . & . & . & . & . & . & . & .\\\\. & e & . & . & . & . & . & . & . & . & . & . & . & .\\\\. & . & . & . & . & . & . & . & . & . & . & . & . & .\\\\. & . & . & . & . & . & . & . & . & . & . & . & . & .\\\\. & . & . & . & . & . & . & . & . & . & . & . & . & .\\\\. & . & . & . & . & e & . & . & . & . & . & . & . & .\\\\. & . & . & . & . & . & . & . & . & . & . & . & . & .\\\\. & . & . & e & . & . & . & . & . & . & . & . & . & .\\\\. & . & . & . & . & . & . & . & . & . & . & . & . & .\\end{array}\\right]$"
      ],
      "text/plain": [
       "⎡.  .  .  .  .  .  .  .  .  .  .  .  .  .⎤\n",
       "⎢                                        ⎥\n",
       "⎢.  .  .  .  .  .  .  .  .  .  .  .  .  .⎥\n",
       "⎢                                        ⎥\n",
       "⎢.  .  .  .  .  .  .  .  .  .  .  .  .  .⎥\n",
       "⎢                                        ⎥\n",
       "⎢.  .  .  .  .  .  .  .  .  .  .  .  .  .⎥\n",
       "⎢                                        ⎥\n",
       "⎢.  .  .  .  .  .  .  .  .  .  .  .  .  .⎥\n",
       "⎢                                        ⎥\n",
       "⎢.  .  .  .  .  .  .  .  .  .  .  .  .  .⎥\n",
       "⎢                                        ⎥\n",
       "⎢.  e  .  .  .  .  .  .  .  .  .  .  .  .⎥\n",
       "⎢                                        ⎥\n",
       "⎢.  .  .  .  .  .  .  .  .  .  .  .  .  .⎥\n",
       "⎢                                        ⎥\n",
       "⎢.  .  .  .  .  .  .  .  .  .  .  .  .  .⎥\n",
       "⎢                                        ⎥\n",
       "⎢.  .  .  .  .  .  .  .  .  .  .  .  .  .⎥\n",
       "⎢                                        ⎥\n",
       "⎢.  .  .  .  .  e  .  .  .  .  .  .  .  .⎥\n",
       "⎢                                        ⎥\n",
       "⎢.  .  .  .  .  .  .  .  .  .  .  .  .  .⎥\n",
       "⎢                                        ⎥\n",
       "⎢.  .  .  e  .  .  .  .  .  .  .  .  .  .⎥\n",
       "⎢                                        ⎥\n",
       "⎣.  .  .  .  .  .  .  .  .  .  .  .  .  .⎦"
      ]
     },
     "metadata": {},
     "output_type": "display_data"
    },
    {
     "name": "stdout",
     "output_type": "stream",
     "text": [
      "K is 10\n",
      "A0* = E ⊕ A0 ⊕ A0² ⊕ A0³ ⊕ A0⁴ ⊕ A0⁵ ⊕ A0⁶ ⊕ A0⁷ ⊕ A0⁸ ⊕ A0⁹ : \n"
     ]
    },
    {
     "data": {
      "text/latex": [
       "$\\displaystyle \\left[\\begin{array}{cccccccccccccc}e & . & . & . & . & . & 5 & e & . & . & . & . & . & .\\\\6 & e & . & . & . & . & 11 & 6 & . & . & . & . & . & .\\\\6 & e & e & . & . & . & 11 & 6 & 3 & e & 10 & 6 & 6 & 3\\\\10 & 4 & 4 & e & . & . & 15 & 10 & 7 & 4 & 14 & 10 & 10 & 7\\\\10 & 4 & 4 & e & e & . & 15 & 10 & 7 & 4 & 14 & 10 & 10 & 7\\\\13 & 7 & 7 & 3 & 3 & e & 18 & 13 & 10 & 7 & 17 & 13 & 13 & 10\\\\. & . & . & . & . & . & e & . & . & . & . & . & . & .\\\\. & . & . & . & . & . & 5 & e & . & . & . & . & . & .\\\\. & . & . & . & . & . & 5 & e & e & . & 7 & 3 & 3 & e\\\\. & . & . & . & . & . & 8 & 3 & 3 & e & 10 & 6 & 6 & 3\\\\. & . & . & . & . & . & . & . & . & . & e & . & . & .\\\\. & . & . & . & . & . & . & . & . & . & 4 & e & . & .\\\\. & . & . & . & . & . & . & . & . & . & 4 & e & e & .\\\\. & . & . & . & . & . & . & . & . & . & 7 & 3 & 3 & e\\end{array}\\right]$"
      ],
      "text/plain": [
       "⎡e   .  .  .  .  .  5   e   .   .  .   .   .   . ⎤\n",
       "⎢                                                ⎥\n",
       "⎢6   e  .  .  .  .  11  6   .   .  .   .   .   . ⎥\n",
       "⎢                                                ⎥\n",
       "⎢6   e  e  .  .  .  11  6   3   e  10  6   6   3 ⎥\n",
       "⎢                                                ⎥\n",
       "⎢10  4  4  e  .  .  15  10  7   4  14  10  10  7 ⎥\n",
       "⎢                                                ⎥\n",
       "⎢10  4  4  e  e  .  15  10  7   4  14  10  10  7 ⎥\n",
       "⎢                                                ⎥\n",
       "⎢13  7  7  3  3  e  18  13  10  7  17  13  13  10⎥\n",
       "⎢                                                ⎥\n",
       "⎢.   .  .  .  .  .  e   .   .   .  .   .   .   . ⎥\n",
       "⎢                                                ⎥\n",
       "⎢.   .  .  .  .  .  5   e   .   .  .   .   .   . ⎥\n",
       "⎢                                                ⎥\n",
       "⎢.   .  .  .  .  .  5   e   e   .  7   3   3   e ⎥\n",
       "⎢                                                ⎥\n",
       "⎢.   .  .  .  .  .  8   3   3   e  10  6   6   3 ⎥\n",
       "⎢                                                ⎥\n",
       "⎢.   .  .  .  .  .  .   .   .   .  e   .   .   . ⎥\n",
       "⎢                                                ⎥\n",
       "⎢.   .  .  .  .  .  .   .   .   .  4   e   .   . ⎥\n",
       "⎢                                                ⎥\n",
       "⎢.   .  .  .  .  .  .   .   .   .  4   e   e   . ⎥\n",
       "⎢                                                ⎥\n",
       "⎣.   .  .  .  .  .  .   .   .   .  7   3   3   e ⎦"
      ]
     },
     "metadata": {},
     "output_type": "display_data"
    },
    {
     "name": "stdout",
     "output_type": "stream",
     "text": [
      "A0*A1: \n"
     ]
    },
    {
     "data": {
      "text/latex": [
       "$\\displaystyle \\left[\\begin{array}{cccccccccccccc}. & 5 & . & . & . & . & . & . & . & . & . & . & . & .\\\\. & 11 & . & . & . & . & . & . & . & . & . & . & . & .\\\\. & 11 & . & 6 & . & 10 & . & . & . & . & . & . & . & .\\\\. & 15 & . & 10 & . & 14 & . & . & . & . & . & . & . & .\\\\. & 15 & . & 10 & . & 14 & . & . & . & . & . & . & . & .\\\\. & 18 & . & 13 & . & 17 & . & . & . & . & . & . & . & .\\\\. & e & . & . & . & . & . & . & . & . & . & . & . & .\\\\. & 5 & . & . & . & . & . & . & . & . & . & . & . & .\\\\. & 5 & . & 3 & . & 7 & . & . & . & . & . & . & . & .\\\\. & 8 & . & 6 & . & 10 & . & . & . & . & . & . & . & .\\\\. & . & . & . & . & e & . & . & . & . & . & . & . & .\\\\. & . & . & . & . & 4 & . & . & . & . & . & . & . & .\\\\. & . & . & e & . & 4 & . & . & . & . & . & . & . & .\\\\. & . & . & 3 & . & 7 & . & . & . & . & . & . & . & .\\end{array}\\right]$"
      ],
      "text/plain": [
       "⎡.  5   .  .   .  .   .  .  .  .  .  .  .  .⎤\n",
       "⎢                                           ⎥\n",
       "⎢.  11  .  .   .  .   .  .  .  .  .  .  .  .⎥\n",
       "⎢                                           ⎥\n",
       "⎢.  11  .  6   .  10  .  .  .  .  .  .  .  .⎥\n",
       "⎢                                           ⎥\n",
       "⎢.  15  .  10  .  14  .  .  .  .  .  .  .  .⎥\n",
       "⎢                                           ⎥\n",
       "⎢.  15  .  10  .  14  .  .  .  .  .  .  .  .⎥\n",
       "⎢                                           ⎥\n",
       "⎢.  18  .  13  .  17  .  .  .  .  .  .  .  .⎥\n",
       "⎢                                           ⎥\n",
       "⎢.  e   .  .   .  .   .  .  .  .  .  .  .  .⎥\n",
       "⎢                                           ⎥\n",
       "⎢.  5   .  .   .  .   .  .  .  .  .  .  .  .⎥\n",
       "⎢                                           ⎥\n",
       "⎢.  5   .  3   .  7   .  .  .  .  .  .  .  .⎥\n",
       "⎢                                           ⎥\n",
       "⎢.  8   .  6   .  10  .  .  .  .  .  .  .  .⎥\n",
       "⎢                                           ⎥\n",
       "⎢.  .   .  .   .  e   .  .  .  .  .  .  .  .⎥\n",
       "⎢                                           ⎥\n",
       "⎢.  .   .  .   .  4   .  .  .  .  .  .  .  .⎥\n",
       "⎢                                           ⎥\n",
       "⎢.  .   .  e   .  4   .  .  .  .  .  .  .  .⎥\n",
       "⎢                                           ⎥\n",
       "⎣.  .   .  3   .  7   .  .  .  .  .  .  .  .⎦"
      ]
     },
     "metadata": {},
     "output_type": "display_data"
    },
    {
     "name": "stdout",
     "output_type": "stream",
     "text": [
      "Max throughput: 1/17\n",
      "λ :  17\n"
     ]
    }
   ],
   "source": [
    "print(\"A0: \")\n",
    "_show(A0)\n",
    "print(\"A1: \")\n",
    "_show(A1)\n",
    "A0_ = get_A0_(A0)\n",
    "# print(\"A0*: \")\n",
    "xor = '\\u2295'\n",
    "# print(\"A0*: \")\n",
    "print(f\"A0* = E {xor} A0 {xor} A0{s(2)} {xor} A0{s(3)} {xor} A0{s(4)} {xor} A0{s(5)} {xor} A0{s(6)} {xor} A0{s(7)} {xor} A0{s(8)} {xor} A0{s(9)} : \")\n",
    "_show(A0_)\n",
    "G_A = mul_matrix(A0_, A1)\n",
    "print(\"A0*A1: \")\n",
    "_show(G_A)\n",
    "print(\"\\u03BB : \", get_lambda(G_A, max_throughput=True))"
   ]
  },
  {
   "cell_type": "code",
   "execution_count": 18,
   "id": "820e187f",
   "metadata": {},
   "outputs": [],
   "source": [
    "\"\"\"\n",
    "    phi 3\n",
    "\"\"\"\n",
    "A0 = np.array([\n",
    "    #1  2  3  4  5  6  7  8  9 10 11 12 13 14\n",
    "    [o, o, o, o, o, o, o, o, o, o, o, o, o, o], # 1\n",
    "    [6, o, o, o, o, o, o, o, o, o, o, o, o, o], # 2\n",
    "    [o, 0, o, o, o, o, o, o, o, o, o, o, o, o], # 3\n",
    "    [o, o, 4, o, o, o, o, o, o, o, o, o, o, o], # 4\n",
    "    [o, o, o, 0, o, o, o, o, o, o, o, 0, o, o], # 5\n",
    "    [o, o, o, o, 3, o, o, o, o, o, o, o, o, o], # 6\n",
    "    [o, 0, o, o, o, o, o, o, o, o, o, o, o, o], # 7\n",
    "    [o, o, o, o, o, o, 5, o, o, o, o, o, o, o], # 8\n",
    "    [o, o, o, 0, o, o, o, 0, o, o, o, o, o, o], # 9\n",
    "    [o, o, o, o, o, o, o, o, 3, o, o, o, o, o], # 10\n",
    "    [o, o, o, o, o, o, o, o, o, o, o, o, o, o], # 11\n",
    "    [o, o, o, o, o, o, o, o, o, o, 4, o, o, o], # 12\n",
    "    [o, o, o, o, o, o, o, o, o, 0, o, 0, o, o], # 13\n",
    "    [o, o, o, o, o, o, o, o, o, o, o, o, 3, o]  # 14\n",
    "    ])\n",
    "\n",
    "A1 = np.array([\n",
    "    #1  2  3  4  5  6  7  8  9 10 11 12 13 14\n",
    "    [o, o, o, o, o, o, o, 0, o, o, o, o, o, o], # 1\n",
    "    [o, o, o, o, o, o, o, o, o, o, o, o, o, o], # 2\n",
    "    [o, o, o, o, o, o, o, o, o, o, o, o, o, 0], # 3\n",
    "    [o, o, o, o, o, o, o, o, o, o, o, o, o, o], # 4\n",
    "    [o, o, o, o, o, o, o, o, o, o, o, o, o, o], # 5\n",
    "    [o, o, o, o, o, o, o, o, o, o, o, o, o, o], # 6\n",
    "    [o, o, o, o, o, o, o, o, o, o, o, o, o, o], # 7\n",
    "    [o, o, o, o, o, o, o, o, o, o, o, o, o, o], # 8\n",
    "    [o, o, o, o, o, o, o, o, o, o, o, o, o, o], # 9\n",
    "    [o, o, o, o, o, o, o, o, o, o, o, o, o, o], # 10\n",
    "    [o, o, o, o, o, 0, o, o, o, o, o, o, o, o], # 11\n",
    "    [o, o, o, o, o, o, o, o, o, o, o, o, o, o], # 12\n",
    "    [o, o, o, o, o, o, o, o, o, o, o, o, o, o], # 13\n",
    "    [o, o, o, o, o, o, o, o, o, o, o, o, o, o]  # 14\n",
    "    ])"
   ]
  },
  {
   "cell_type": "code",
   "execution_count": 19,
   "id": "b142adb3",
   "metadata": {
    "scrolled": true
   },
   "outputs": [
    {
     "name": "stdout",
     "output_type": "stream",
     "text": [
      "A0: \n"
     ]
    },
    {
     "data": {
      "text/latex": [
       "$\\displaystyle \\left[\\begin{array}{cccccccccccccc}. & . & . & . & . & . & . & . & . & . & . & . & . & .\\\\6 & . & . & . & . & . & . & . & . & . & . & . & . & .\\\\. & e & . & . & . & . & . & . & . & . & . & . & . & .\\\\. & . & 4 & . & . & . & . & . & . & . & . & . & . & .\\\\. & . & . & e & . & . & . & . & . & . & . & e & . & .\\\\. & . & . & . & 3 & . & . & . & . & . & . & . & . & .\\\\. & e & . & . & . & . & . & . & . & . & . & . & . & .\\\\. & . & . & . & . & . & 5 & . & . & . & . & . & . & .\\\\. & . & . & e & . & . & . & e & . & . & . & . & . & .\\\\. & . & . & . & . & . & . & . & 3 & . & . & . & . & .\\\\. & . & . & . & . & . & . & . & . & . & . & . & . & .\\\\. & . & . & . & . & . & . & . & . & . & 4 & . & . & .\\\\. & . & . & . & . & . & . & . & . & e & . & e & . & .\\\\. & . & . & . & . & . & . & . & . & . & . & . & 3 & .\\end{array}\\right]$"
      ],
      "text/plain": [
       "⎡.  .  .  .  .  .  .  .  .  .  .  .  .  .⎤\n",
       "⎢                                        ⎥\n",
       "⎢6  .  .  .  .  .  .  .  .  .  .  .  .  .⎥\n",
       "⎢                                        ⎥\n",
       "⎢.  e  .  .  .  .  .  .  .  .  .  .  .  .⎥\n",
       "⎢                                        ⎥\n",
       "⎢.  .  4  .  .  .  .  .  .  .  .  .  .  .⎥\n",
       "⎢                                        ⎥\n",
       "⎢.  .  .  e  .  .  .  .  .  .  .  e  .  .⎥\n",
       "⎢                                        ⎥\n",
       "⎢.  .  .  .  3  .  .  .  .  .  .  .  .  .⎥\n",
       "⎢                                        ⎥\n",
       "⎢.  e  .  .  .  .  .  .  .  .  .  .  .  .⎥\n",
       "⎢                                        ⎥\n",
       "⎢.  .  .  .  .  .  5  .  .  .  .  .  .  .⎥\n",
       "⎢                                        ⎥\n",
       "⎢.  .  .  e  .  .  .  e  .  .  .  .  .  .⎥\n",
       "⎢                                        ⎥\n",
       "⎢.  .  .  .  .  .  .  .  3  .  .  .  .  .⎥\n",
       "⎢                                        ⎥\n",
       "⎢.  .  .  .  .  .  .  .  .  .  .  .  .  .⎥\n",
       "⎢                                        ⎥\n",
       "⎢.  .  .  .  .  .  .  .  .  .  4  .  .  .⎥\n",
       "⎢                                        ⎥\n",
       "⎢.  .  .  .  .  .  .  .  .  e  .  e  .  .⎥\n",
       "⎢                                        ⎥\n",
       "⎣.  .  .  .  .  .  .  .  .  .  .  .  3  .⎦"
      ]
     },
     "metadata": {},
     "output_type": "display_data"
    },
    {
     "name": "stdout",
     "output_type": "stream",
     "text": [
      "A1: \n"
     ]
    },
    {
     "data": {
      "text/latex": [
       "$\\displaystyle \\left[\\begin{array}{cccccccccccccc}. & . & . & . & . & . & . & e & . & . & . & . & . & .\\\\. & . & . & . & . & . & . & . & . & . & . & . & . & .\\\\. & . & . & . & . & . & . & . & . & . & . & . & . & e\\\\. & . & . & . & . & . & . & . & . & . & . & . & . & .\\\\. & . & . & . & . & . & . & . & . & . & . & . & . & .\\\\. & . & . & . & . & . & . & . & . & . & . & . & . & .\\\\. & . & . & . & . & . & . & . & . & . & . & . & . & .\\\\. & . & . & . & . & . & . & . & . & . & . & . & . & .\\\\. & . & . & . & . & . & . & . & . & . & . & . & . & .\\\\. & . & . & . & . & . & . & . & . & . & . & . & . & .\\\\. & . & . & . & . & e & . & . & . & . & . & . & . & .\\\\. & . & . & . & . & . & . & . & . & . & . & . & . & .\\\\. & . & . & . & . & . & . & . & . & . & . & . & . & .\\\\. & . & . & . & . & . & . & . & . & . & . & . & . & .\\end{array}\\right]$"
      ],
      "text/plain": [
       "⎡.  .  .  .  .  .  .  e  .  .  .  .  .  .⎤\n",
       "⎢                                        ⎥\n",
       "⎢.  .  .  .  .  .  .  .  .  .  .  .  .  .⎥\n",
       "⎢                                        ⎥\n",
       "⎢.  .  .  .  .  .  .  .  .  .  .  .  .  e⎥\n",
       "⎢                                        ⎥\n",
       "⎢.  .  .  .  .  .  .  .  .  .  .  .  .  .⎥\n",
       "⎢                                        ⎥\n",
       "⎢.  .  .  .  .  .  .  .  .  .  .  .  .  .⎥\n",
       "⎢                                        ⎥\n",
       "⎢.  .  .  .  .  .  .  .  .  .  .  .  .  .⎥\n",
       "⎢                                        ⎥\n",
       "⎢.  .  .  .  .  .  .  .  .  .  .  .  .  .⎥\n",
       "⎢                                        ⎥\n",
       "⎢.  .  .  .  .  .  .  .  .  .  .  .  .  .⎥\n",
       "⎢                                        ⎥\n",
       "⎢.  .  .  .  .  .  .  .  .  .  .  .  .  .⎥\n",
       "⎢                                        ⎥\n",
       "⎢.  .  .  .  .  .  .  .  .  .  .  .  .  .⎥\n",
       "⎢                                        ⎥\n",
       "⎢.  .  .  .  .  e  .  .  .  .  .  .  .  .⎥\n",
       "⎢                                        ⎥\n",
       "⎢.  .  .  .  .  .  .  .  .  .  .  .  .  .⎥\n",
       "⎢                                        ⎥\n",
       "⎢.  .  .  .  .  .  .  .  .  .  .  .  .  .⎥\n",
       "⎢                                        ⎥\n",
       "⎣.  .  .  .  .  .  .  .  .  .  .  .  .  .⎦"
      ]
     },
     "metadata": {},
     "output_type": "display_data"
    },
    {
     "name": "stdout",
     "output_type": "stream",
     "text": [
      "K is 8\n",
      "A0* = E ⊕ A0 ⊕ A0² ⊕ A0³ ⊕ A0⁴ ⊕ A0⁵ ⊕ A0⁶ ⊕ A0⁷ : \n"
     ]
    },
    {
     "data": {
      "text/latex": [
       "$\\displaystyle \\left[\\begin{array}{cccccccccccccc}e & . & . & . & . & . & . & . & . & . & . & . & . & .\\\\6 & e & . & . & . & . & . & . & . & . & . & . & . & .\\\\6 & e & e & . & . & . & . & . & . & . & . & . & . & .\\\\10 & 4 & 4 & e & . & . & . & . & . & . & . & . & . & .\\\\10 & 4 & 4 & e & e & . & . & . & . & . & 4 & e & . & .\\\\13 & 7 & 7 & 3 & 3 & e & . & . & . & . & 7 & 3 & . & .\\\\6 & e & . & . & . & . & e & . & . & . & . & . & . & .\\\\11 & 5 & . & . & . & . & 5 & e & . & . & . & . & . & .\\\\11 & 5 & 4 & e & . & . & 5 & e & e & . & . & . & . & .\\\\14 & 8 & 7 & 3 & . & . & 8 & 3 & 3 & e & . & . & . & .\\\\. & . & . & . & . & . & . & . & . & . & e & . & . & .\\\\. & . & . & . & . & . & . & . & . & . & 4 & e & . & .\\\\14 & 8 & 7 & 3 & . & . & 8 & 3 & 3 & e & 4 & e & e & .\\\\17 & 11 & 10 & 6 & . & . & 11 & 6 & 6 & 3 & 7 & 3 & 3 & e\\end{array}\\right]$"
      ],
      "text/plain": [
       "⎡e   .   .   .  .  .  .   .  .  .  .  .  .  .⎤\n",
       "⎢                                            ⎥\n",
       "⎢6   e   .   .  .  .  .   .  .  .  .  .  .  .⎥\n",
       "⎢                                            ⎥\n",
       "⎢6   e   e   .  .  .  .   .  .  .  .  .  .  .⎥\n",
       "⎢                                            ⎥\n",
       "⎢10  4   4   e  .  .  .   .  .  .  .  .  .  .⎥\n",
       "⎢                                            ⎥\n",
       "⎢10  4   4   e  e  .  .   .  .  .  4  e  .  .⎥\n",
       "⎢                                            ⎥\n",
       "⎢13  7   7   3  3  e  .   .  .  .  7  3  .  .⎥\n",
       "⎢                                            ⎥\n",
       "⎢6   e   .   .  .  .  e   .  .  .  .  .  .  .⎥\n",
       "⎢                                            ⎥\n",
       "⎢11  5   .   .  .  .  5   e  .  .  .  .  .  .⎥\n",
       "⎢                                            ⎥\n",
       "⎢11  5   4   e  .  .  5   e  e  .  .  .  .  .⎥\n",
       "⎢                                            ⎥\n",
       "⎢14  8   7   3  .  .  8   3  3  e  .  .  .  .⎥\n",
       "⎢                                            ⎥\n",
       "⎢.   .   .   .  .  .  .   .  .  .  e  .  .  .⎥\n",
       "⎢                                            ⎥\n",
       "⎢.   .   .   .  .  .  .   .  .  .  4  e  .  .⎥\n",
       "⎢                                            ⎥\n",
       "⎢14  8   7   3  .  .  8   3  3  e  4  e  e  .⎥\n",
       "⎢                                            ⎥\n",
       "⎣17  11  10  6  .  .  11  6  6  3  7  3  3  e⎦"
      ]
     },
     "metadata": {},
     "output_type": "display_data"
    },
    {
     "name": "stdout",
     "output_type": "stream",
     "text": [
      "A0*A1: \n"
     ]
    },
    {
     "data": {
      "text/latex": [
       "$\\displaystyle \\left[\\begin{array}{cccccccccccccc}. & . & . & . & . & . & . & e & . & . & . & . & . & .\\\\. & . & . & . & . & . & . & 6 & . & . & . & . & . & .\\\\. & . & . & . & . & . & . & 6 & . & . & . & . & . & e\\\\. & . & . & . & . & . & . & 10 & . & . & . & . & . & 4\\\\. & . & . & . & . & 4 & . & 10 & . & . & . & . & . & 4\\\\. & . & . & . & . & 7 & . & 13 & . & . & . & . & . & 7\\\\. & . & . & . & . & . & . & 6 & . & . & . & . & . & .\\\\. & . & . & . & . & . & . & 11 & . & . & . & . & . & .\\\\. & . & . & . & . & . & . & 11 & . & . & . & . & . & 4\\\\. & . & . & . & . & . & . & 14 & . & . & . & . & . & 7\\\\. & . & . & . & . & e & . & . & . & . & . & . & . & .\\\\. & . & . & . & . & 4 & . & . & . & . & . & . & . & .\\\\. & . & . & . & . & 4 & . & 14 & . & . & . & . & . & 7\\\\. & . & . & . & . & 7 & . & 17 & . & . & . & . & . & 10\\end{array}\\right]$"
      ],
      "text/plain": [
       "⎡.  .  .  .  .  .  .  e   .  .  .  .  .  . ⎤\n",
       "⎢                                          ⎥\n",
       "⎢.  .  .  .  .  .  .  6   .  .  .  .  .  . ⎥\n",
       "⎢                                          ⎥\n",
       "⎢.  .  .  .  .  .  .  6   .  .  .  .  .  e ⎥\n",
       "⎢                                          ⎥\n",
       "⎢.  .  .  .  .  .  .  10  .  .  .  .  .  4 ⎥\n",
       "⎢                                          ⎥\n",
       "⎢.  .  .  .  .  4  .  10  .  .  .  .  .  4 ⎥\n",
       "⎢                                          ⎥\n",
       "⎢.  .  .  .  .  7  .  13  .  .  .  .  .  7 ⎥\n",
       "⎢                                          ⎥\n",
       "⎢.  .  .  .  .  .  .  6   .  .  .  .  .  . ⎥\n",
       "⎢                                          ⎥\n",
       "⎢.  .  .  .  .  .  .  11  .  .  .  .  .  . ⎥\n",
       "⎢                                          ⎥\n",
       "⎢.  .  .  .  .  .  .  11  .  .  .  .  .  4 ⎥\n",
       "⎢                                          ⎥\n",
       "⎢.  .  .  .  .  .  .  14  .  .  .  .  .  7 ⎥\n",
       "⎢                                          ⎥\n",
       "⎢.  .  .  .  .  e  .  .   .  .  .  .  .  . ⎥\n",
       "⎢                                          ⎥\n",
       "⎢.  .  .  .  .  4  .  .   .  .  .  .  .  . ⎥\n",
       "⎢                                          ⎥\n",
       "⎢.  .  .  .  .  4  .  14  .  .  .  .  .  7 ⎥\n",
       "⎢                                          ⎥\n",
       "⎣.  .  .  .  .  7  .  17  .  .  .  .  .  10⎦"
      ]
     },
     "metadata": {},
     "output_type": "display_data"
    },
    {
     "name": "stdout",
     "output_type": "stream",
     "text": [
      "Max throughput: 1/11\n",
      "λ :  11\n"
     ]
    }
   ],
   "source": [
    "print(\"A0: \")\n",
    "_show(A0)\n",
    "print(\"A1: \")\n",
    "_show(A1)\n",
    "A0_ = get_A0_(A0)\n",
    "xor = '\\u2295'\n",
    "# print(\"A0*: \")\n",
    "print(f\"A0* = E {xor} A0 {xor} A0{s(2)} {xor} A0{s(3)} {xor} A0{s(4)} {xor} A0{s(5)} {xor} A0{s(6)} {xor} A0{s(7)} : \")\n",
    "_show(A0_)\n",
    "G_A = mul_matrix(A0_, A1)\n",
    "print(\"A0*A1: \")\n",
    "_show(G_A)\n",
    "print(\"\\u03BB : \", get_lambda(G_A, max_throughput=True))"
   ]
  },
  {
   "cell_type": "markdown",
   "id": "235431d1",
   "metadata": {},
   "source": [
    "### Other example Implementations"
   ]
  },
  {
   "cell_type": "code",
   "execution_count": 25,
   "id": "d93fc3b7",
   "metadata": {},
   "outputs": [
    {
     "name": "stdout",
     "output_type": "stream",
     "text": [
      "[[0 0 0 0 0 0 0 0]\n",
      " [0 0 0 0 0 0 0 0]\n",
      " [0 0 0 0 0 0 0 0]] >= 0\n",
      "[[0 0 0]\n",
      " [0 0 0]\n",
      " [0 1 0]] == 0\n",
      "[0 0 0] <= [3 3 2]\n",
      "Ac:\n"
     ]
    },
    {
     "data": {
      "text/latex": [
       "$\\displaystyle \\left[\\begin{matrix}0 & -1 & 0 & 1 & 0 & 0 & 0 & 0 & 0\\\\0 & 0 & 0 & 0 & -1 & 0 & 0 & 0 & 1\\\\0 & 0 & 0 & 0 & -1 & 0 & 1 & 0 & 0\\end{matrix}\\right]$"
      ],
      "text/plain": [
       "⎡0  -1  0  1  0   0  0  0  0⎤\n",
       "⎢                           ⎥\n",
       "⎢0  0   0  0  -1  0  0  0  1⎥\n",
       "⎢                           ⎥\n",
       "⎣0  0   0  0  -1  0  1  0  0⎦"
      ]
     },
     "metadata": {},
     "output_type": "display_data"
    },
    {
     "name": "stdout",
     "output_type": "stream",
     "text": [
      "It is NOT ideally enforceable\n",
      "C:\n"
     ]
    },
    {
     "data": {
      "text/latex": [
       "$\\displaystyle \\left[\\begin{array}{cccccccccccc}0 & 0 & 0 & 1.0 & 0 & 0 & 0 & 0 & 0 & 0 & 0 & 0\\\\0 & 0 & 0 & 0 & 1.0 & 0 & 0 & 0 & 0 & 0 & 0 & 0\\\\0 & 0 & 0 & 0 & 0 & 1.0 & 0 & 0 & 0 & 0 & 0 & 0\\\\-1.0 & 0 & 0 & 0 & 0 & 0 & 1.0 & 0 & 0 & 0 & 0 & 0\\\\-1.0 & 0 & 0 & 0 & 0 & 0 & 0 & 1.0 & 0 & 0 & 0 & 0\\\\1.0 & -1.0 & 0 & 0 & 0 & 0 & 0 & 0 & 1.0 & 0 & 0 & 0\\\\0 & 1.0 & -1.0 & 0 & 0 & 0 & 0 & 0 & 0 & 1.0 & 0 & 0\\\\0 & 0 & 1.0 & 0 & 0 & 0 & 0 & 0 & 0 & 0 & 1.0 & 0\\\\0 & -1.0 & 0 & 0 & 0 & 0 & 0 & 0 & 0 & 0 & 0 & 1.0\\end{array}\\right]$"
      ],
      "text/plain": [
       "⎡ 0     0     0    1.0   0    0    0    0    0    0    0    0 ⎤\n",
       "⎢                                                             ⎥\n",
       "⎢ 0     0     0     0   1.0   0    0    0    0    0    0    0 ⎥\n",
       "⎢                                                             ⎥\n",
       "⎢ 0     0     0     0    0   1.0   0    0    0    0    0    0 ⎥\n",
       "⎢                                                             ⎥\n",
       "⎢-1.0   0     0     0    0    0   1.0   0    0    0    0    0 ⎥\n",
       "⎢                                                             ⎥\n",
       "⎢-1.0   0     0     0    0    0    0   1.0   0    0    0    0 ⎥\n",
       "⎢                                                             ⎥\n",
       "⎢1.0   -1.0   0     0    0    0    0    0   1.0   0    0    0 ⎥\n",
       "⎢                                                             ⎥\n",
       "⎢ 0    1.0   -1.0   0    0    0    0    0    0   1.0   0    0 ⎥\n",
       "⎢                                                             ⎥\n",
       "⎢ 0     0    1.0    0    0    0    0    0    0    0   1.0   0 ⎥\n",
       "⎢                                                             ⎥\n",
       "⎣ 0    -1.0   0     0    0    0    0    0    0    0    0   1.0⎦"
      ]
     },
     "metadata": {},
     "output_type": "display_data"
    },
    {
     "name": "stdout",
     "output_type": "stream",
     "text": [
      "Z: [6]\n",
      "C last row: [ 0.  0. -1.  0.  0.  0.  0.  0.  0.  1.  0.  1.]\n",
      "Spec: [0. 0. 0. 0. 1. 1. 1. 0.]\n",
      "Ac: [ 0.  0.  0.  0. -1.  0.  0.  1.  0.]\n",
      "Z: [7]\n",
      "C last row: [0. 0. 0. 0. 0. 0. 0. 0. 0. 1. 1. 1.]\n",
      "Spec: [0. 0. 0. 0. 1. 1. 1. 1.]\n",
      "Ac: [ 0.  0.  0.  0. -1.  0.  0.  0.  1.]\n"
     ]
    }
   ],
   "source": [
    "gamma = np.array([\n",
    "    [0, 1, 1, 0, 0, 0, 0, 0],\n",
    "    [0, 0, 0, 0, 1, 1, 1, 1],\n",
    "    [0, 0, 0, 0, 1, 1, 0, 0],\n",
    "])\n",
    "A = np.array([\n",
    "    [1, -1, 0, 0, 0, 0, 0, 0, 0],\n",
    "    [0, 1, -1, 0, 0, 0, 0, 0, 0],\n",
    "    [0, 0, 1, -1, 0, 0, 0, 0, 0],\n",
    "    [0, 0, 0, 1, 0, -1, 0, 0, 0],\n",
    "    [0, 0, 0, 0, 1, -1, 0, 0, 0],\n",
    "    [0, 0, 0, 0, 0, 1, -1, 0, 0],\n",
    "    [0, 0, 0, 0, 0, 0, 1, -1, 0],\n",
    "    [0, 0, 0, 0, 0, 0, 0, 1, -1]\n",
    "])\n",
    "b = np.array([3, 3, 2])\n",
    "x0 = np.array([2, 0, 0, 0, 0, 0, 0, 0])\n",
    "i_ouc = ()\n",
    "i_uouc = (5, 6, 7)\n",
    "i = get_index_UU(A, gamma, i_uouc)\n",
    "check_ideal_enforcable(A, gamma, i_ouc, i_uouc, x0, b)\n",
    "stricter_algorithm(A, gamma[i], i_ouc, i_uouc)"
   ]
  },
  {
   "cell_type": "code",
   "execution_count": 26,
   "id": "4df52703",
   "metadata": {},
   "outputs": [
    {
     "name": "stdout",
     "output_type": "stream",
     "text": [
      "[[ 0]\n",
      " [-1]\n",
      " [ 0]\n",
      " [-1]\n",
      " [ 1]]\n",
      "1\n",
      "[1]\n",
      "C:\n"
     ]
    },
    {
     "data": {
      "text/latex": [
       "$\\displaystyle \\left[\\begin{matrix}0 & 1.0 & 0 & 0 & 0 & 0 & 0\\\\-1.0 & 0 & 1.0 & 0 & 0 & 0 & 0\\\\0 & 0 & 0 & 1.0 & 0 & 0 & 0\\\\-1.0 & 0 & 0 & 0 & 1.0 & 0 & 0\\\\1.0 & 0 & 0 & 0 & 0 & 1.0 & 0\\\\1.0 & 0 & 0 & 0 & 0 & 0 & 1.0\\end{matrix}\\right]$"
      ],
      "text/plain": [
       "⎡ 0    1.0   0    0    0    0    0 ⎤\n",
       "⎢                                  ⎥\n",
       "⎢-1.0   0   1.0   0    0    0    0 ⎥\n",
       "⎢                                  ⎥\n",
       "⎢ 0     0    0   1.0   0    0    0 ⎥\n",
       "⎢                                  ⎥\n",
       "⎢-1.0   0    0    0   1.0   0    0 ⎥\n",
       "⎢                                  ⎥\n",
       "⎢1.0    0    0    0    0   1.0   0 ⎥\n",
       "⎢                                  ⎥\n",
       "⎣1.0    0    0    0    0    0   1.0⎦"
      ]
     },
     "metadata": {},
     "output_type": "display_data"
    },
    {
     "name": "stdout",
     "output_type": "stream",
     "text": [
      "I: [1, 3]\n",
      "C last row: [0. 0. 1. 0. 0. 0. 1.]\n",
      "Spec: [0. 1. 0. 0. 1.]\n",
      "Ac: [-1. -1.  0.  0.  1.]\n",
      "C last row: [0. 0. 0. 0. 1. 0. 1.]\n",
      "Spec: [0. 0. 0. 1. 1.]\n",
      "Ac: [ 0.  0. -1.  0.  1.]\n"
     ]
    }
   ],
   "source": [
    "A = np.array([\n",
    "    [-1, -1, 0, 0, 1],\n",
    "    [1, 1, 0, -1, 0],\n",
    "    [0, 0, -1, 0, 1],\n",
    "    [0, 0, 1, -1, 0],\n",
    "    [0, 0, 0, 1, -1],\n",
    "])\n",
    "i_ouc = (3)\n",
    "n = np.shape(A)[0]\n",
    "Auc = np.array([[1, 1, 2, 1, 1] for i in range(1)]).T\n",
    "Auc = build_Aoc(A, i_ouc)\n",
    "if Auc.ndim == 1:\n",
    "    Auc = Auc.reshape(-1, 1)\n",
    "print(Auc)\n",
    "gamma = np.array(\n",
    "    [0, 0, 0, 0, 1]\n",
    ")\n",
    "print(gamma.ndim)\n",
    "I = np.identity(n)\n",
    "v = np.dot(gamma, Auc)\n",
    "print(v)\n",
    "\n",
    "C = np.concatenate((Auc, I, np.zeros((n, 1))), axis=1)\n",
    "last_row = np.append(np.concatenate((v, np.zeros(n))), 1)\n",
    "C = np.vstack((C, last_row))\n",
    "\n",
    "stricter_algorithm(A, gamma, i_ouc)"
   ]
  },
  {
   "cell_type": "code",
   "execution_count": 27,
   "id": "e7c90b46",
   "metadata": {},
   "outputs": [
    {
     "name": "stdout",
     "output_type": "stream",
     "text": [
      "[[0 0]\n",
      " [1 1]] >= 0\n",
      "[[0 0 0 0 0]\n",
      " [0 0 0 0 0]] == 0\n",
      "[0 0] <= [3 4]\n",
      "Ac:\n"
     ]
    },
    {
     "data": {
      "text/latex": [
       "$\\displaystyle \\left[\\begin{matrix}-1 & 1 & 0 & 1 & 0\\\\-1 & 0 & 1 & 0 & 1\\end{matrix}\\right]$"
      ],
      "text/plain": [
       "⎡-1  1  0  1  0⎤\n",
       "⎢              ⎥\n",
       "⎣-1  0  1  0  1⎦"
      ]
     },
     "metadata": {},
     "output_type": "display_data"
    },
    {
     "name": "stdout",
     "output_type": "stream",
     "text": [
      "Yes, It is ideally enforceable\n"
     ]
    },
    {
     "data": {
      "text/plain": [
       "True"
      ]
     },
     "execution_count": 27,
     "metadata": {},
     "output_type": "execute_result"
    }
   ],
   "source": [
    "\"\"\"\n",
    "    Exercise 4.1\n",
    "\"\"\"\n",
    "gamma = np.array([\n",
    "    [1, 0, 0, 0, 0],\n",
    "    [1, 1, 0, 1, 0]\n",
    "])\n",
    "A = np.array([\n",
    "    [1, -1, 0, -1, 0],\n",
    "    [0, 1, -1, 0, 0],\n",
    "    [0, -1, 1, -1, 1],\n",
    "    [0, 0, 0, 1, -1],\n",
    "    [0, 0, 0, -1, 1],\n",
    "])\n",
    "b = np.array([3, 4]).T\n",
    "x0 = np.array([0, 0, 2, 0, 1]).T\n",
    "Aouc = np.array((A[:, 2], A[:, 4])).T\n",
    "Auouc = 0\n",
    "\n",
    "check_ideal_enforcable(A, gamma, (2, 4), (), x0, b)"
   ]
  },
  {
   "cell_type": "code",
   "execution_count": 28,
   "id": "568760f5",
   "metadata": {},
   "outputs": [
    {
     "name": "stdout",
     "output_type": "stream",
     "text": [
      "a: \n",
      "[0 0 0 0 0] >= 0\n",
      "[0 0 0 0 0] == 0\n",
      "0 <= [1]\n",
      "Ac:\n"
     ]
    },
    {
     "data": {
      "text/latex": [
       "$\\displaystyle \\left[\\begin{matrix}0\\\\0\\\\0\\\\-1\\\\1\\end{matrix}\\right]$"
      ],
      "text/plain": [
       "⎡0 ⎤\n",
       "⎢  ⎥\n",
       "⎢0 ⎥\n",
       "⎢  ⎥\n",
       "⎢0 ⎥\n",
       "⎢  ⎥\n",
       "⎢-1⎥\n",
       "⎢  ⎥\n",
       "⎣1 ⎦"
      ]
     },
     "metadata": {},
     "output_type": "display_data"
    },
    {
     "name": "stdout",
     "output_type": "stream",
     "text": [
      "Yes, It is ideally enforceable\n",
      "b: \n",
      "-1 >= 0\n",
      "[0 0 0 0 0] == 0\n",
      "0 <= [1]\n",
      "Ac:\n"
     ]
    },
    {
     "data": {
      "text/latex": [
       "$\\displaystyle \\left[\\begin{matrix}0\\\\0\\\\0\\\\-1\\\\1\\end{matrix}\\right]$"
      ],
      "text/plain": [
       "⎡0 ⎤\n",
       "⎢  ⎥\n",
       "⎢0 ⎥\n",
       "⎢  ⎥\n",
       "⎢0 ⎥\n",
       "⎢  ⎥\n",
       "⎢-1⎥\n",
       "⎢  ⎥\n",
       "⎣1 ⎦"
      ]
     },
     "metadata": {},
     "output_type": "display_data"
    },
    {
     "name": "stdout",
     "output_type": "stream",
     "text": [
      "It is NOT ideally enforceable\n",
      "c: \n",
      "C:\n"
     ]
    },
    {
     "data": {
      "text/latex": [
       "$\\displaystyle \\left[\\begin{matrix}0 & 1.0 & 0 & 0 & 0 & 0 & 0\\\\-1.0 & 0 & 1.0 & 0 & 0 & 0 & 0\\\\0 & 0 & 0 & 1.0 & 0 & 0 & 0\\\\-1.0 & 0 & 0 & 0 & 1.0 & 0 & 0\\\\1.0 & 0 & 0 & 0 & 0 & 1.0 & 0\\\\1.0 & 0 & 0 & 0 & 0 & 0 & 1.0\\end{matrix}\\right]$"
      ],
      "text/plain": [
       "⎡ 0    1.0   0    0    0    0    0 ⎤\n",
       "⎢                                  ⎥\n",
       "⎢-1.0   0   1.0   0    0    0    0 ⎥\n",
       "⎢                                  ⎥\n",
       "⎢ 0     0    0   1.0   0    0    0 ⎥\n",
       "⎢                                  ⎥\n",
       "⎢-1.0   0    0    0   1.0   0    0 ⎥\n",
       "⎢                                  ⎥\n",
       "⎢1.0    0    0    0    0   1.0   0 ⎥\n",
       "⎢                                  ⎥\n",
       "⎣1.0    0    0    0    0    0   1.0⎦"
      ]
     },
     "metadata": {},
     "output_type": "display_data"
    },
    {
     "name": "stdout",
     "output_type": "stream",
     "text": [
      "I: [1, 3]\n",
      "C last row: [0. 0. 1. 0. 0. 0. 1.]\n",
      "Spec: [0. 1. 0. 0. 1.]\n",
      "Ac: [-1. -1.  0.  0.  1.]\n",
      "C last row: [0. 0. 0. 0. 1. 0. 1.]\n",
      "Spec: [0. 0. 0. 1. 1.]\n",
      "Ac: [ 0.  0. -1.  0.  1.]\n"
     ]
    }
   ],
   "source": [
    "\"\"\"\n",
    "    Exercise 4.2\n",
    "\"\"\"\n",
    "gamma = np.array(\n",
    "    [0, 0, 0, 0, 1]\n",
    ")\n",
    "A = np.array([\n",
    "    [-1, -1, 0, 0, 1],\n",
    "    [1, 1, 0, -1, 0],\n",
    "    [0, 0, -1, 0, 1],\n",
    "    [0, 0, 1, -1, 0],\n",
    "    [0, 0, 0, 1, -1],\n",
    "])\n",
    "b = np.array([1]).T\n",
    "x0 = np.array([1, 1, 2, 0, 0]).T\n",
    "i_ouc = (3)\n",
    "print(\"a: \")\n",
    "check_ideal_enforcable(A, gamma, (), (), x0, b)\n",
    "print(\"b: \")\n",
    "check_ideal_enforcable(A, gamma, (3), (), x0, b)\n",
    "print(\"c: \")\n",
    "stricter_algorithm(A, gamma, i_ouc)"
   ]
  },
  {
   "cell_type": "code",
   "execution_count": null,
   "id": "f4c07d50",
   "metadata": {},
   "outputs": [],
   "source": []
  }
 ],
 "metadata": {
  "kernelspec": {
   "display_name": "mi2",
   "language": "python",
   "name": "mi2"
  },
  "language_info": {
   "codemirror_mode": {
    "name": "ipython",
    "version": 3
   },
   "file_extension": ".py",
   "mimetype": "text/x-python",
   "name": "python",
   "nbconvert_exporter": "python",
   "pygments_lexer": "ipython3",
   "version": "3.8.8"
  }
 },
 "nbformat": 4,
 "nbformat_minor": 5
}
