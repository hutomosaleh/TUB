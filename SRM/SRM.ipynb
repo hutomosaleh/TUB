{
 "cells": [
  {
   "cell_type": "code",
   "execution_count": 1,
   "metadata": {},
   "outputs": [],
   "source": [
    "from sympy.interactive import printing\n",
    "printing.init_printing(use_latex=True)\n",
    "from copy import deepcopy\n",
    "import numpy as np\n",
    "import sympy as sp"
   ]
  },
  {
   "cell_type": "code",
   "execution_count": 28,
   "metadata": {},
   "outputs": [],
   "source": [
    "def dio_polynome(degX, degY, i):\n",
    "    if degY>0:\n",
    "        degE = i-1\n",
    "    elif degY==0:\n",
    "        degE = min([i-1, degX])\n",
    "    degF = max([-i+degX, degY-1])\n",
    "    \n",
    "    if degE<0:\n",
    "        degE = 0\n",
    "    if degF<0:\n",
    "        degF = 0\n",
    "    return degE, degF\n",
    "\n",
    "def dio_division(degX, degY, i):\n",
    "    pass\n",
    "\n",
    "def rst(f):\n",
    "    pass"
   ]
  },
  {
   "cell_type": "code",
   "execution_count": 32,
   "metadata": {},
   "outputs": [
    {
     "name": "stdout",
     "output_type": "stream",
     "text": [
      "dio_polynome(3, 0, 5)=(3, 0)\n",
      "dio_polynome(3, 0, 2)=(1, 1)\n"
     ]
    }
   ],
   "source": [
    "print(f\"{dio_polynome(3, 0, 5)=}\")\n",
    "print(f\"{dio_polynome(3, 0, 2)=}\")"
   ]
  },
  {
   "cell_type": "code",
   "execution_count": 49,
   "metadata": {},
   "outputs": [
    {
     "name": "stdout",
     "output_type": "stream",
     "text": [
      "Not numeric\n"
     ]
    }
   ],
   "source": [
    "# def dio_division(X, Y, i):\n",
    "#     if \n",
    "            \n",
    "#     return E, F\n",
    "\n",
    "q = sp.symbols('q')\n",
    "A = 1 - 0.9*q**(-1)\n",
    "B = 0.5\n",
    "if np.char.isnumeric(str(A).replace('-', '').replace('.', '')):\n",
    "    print(\"Yes\")\n",
    "else:\n",
    "    print(\"Not numeric\")"
   ]
  },
  {
   "cell_type": "code",
   "execution_count": 50,
   "metadata": {},
   "outputs": [],
   "source": [
    "x1, x2 = sp.symbols('x1 x2')"
   ]
  },
  {
   "cell_type": "code",
   "execution_count": 77,
   "metadata": {},
   "outputs": [
    {
     "data": {
      "text/latex": [
       "$\\displaystyle - 3 x_{2} \\left(4 x_{2} - 1\\right) \\left(4 x_{2} + 1\\right)$"
      ],
      "text/plain": [
       "-3⋅x₂⋅(4⋅x₂ - 1)⋅(4⋅x₂ + 1)"
      ]
     },
     "metadata": {},
     "output_type": "display_data"
    },
    {
     "data": {
      "text/latex": [
       "$\\displaystyle - 48 x_{2}^{3} + 3 x_{2}$"
      ],
      "text/plain": [
       "       3       \n",
       "- 48⋅x₂  + 3⋅x₂"
      ]
     },
     "metadata": {},
     "output_type": "display_data"
    }
   ],
   "source": [
    "f = -4*x1*x2**2 + x2 - x1**3 - 4*x1**3 + x1\n",
    "f = f.subs(x1, 2*x2)\n",
    "display(sp.factor(f))\n",
    "display(f)"
   ]
  },
  {
   "cell_type": "code",
   "execution_count": 59,
   "metadata": {},
   "outputs": [
    {
     "data": {
      "text/latex": [
       "$\\displaystyle \\left[ - \\frac{1}{4}, \\  0, \\  \\frac{1}{4}\\right]$"
      ],
      "text/plain": [
       "[-1/4, 0, 1/4]"
      ]
     },
     "execution_count": 59,
     "metadata": {},
     "output_type": "execute_result"
    }
   ],
   "source": [
    "eq1 = sp.Function('eq1')\n",
    "eq1 = sp.Eq(f, 0)\n",
    "sp.solve(eq1)"
   ]
  },
  {
   "cell_type": "code",
   "execution_count": 74,
   "metadata": {},
   "outputs": [
    {
     "data": {
      "text/latex": [
       "$\\displaystyle - 10 x_{1}^{2} \\left(x_{1} - 2 x_{2}\\right)^{2}$"
      ],
      "text/plain": [
       "      2            2\n",
       "-10⋅x₁ ⋅(x₁ - 2⋅x₂) "
      ]
     },
     "execution_count": 74,
     "metadata": {},
     "output_type": "execute_result"
    }
   ],
   "source": [
    "f = -3*x1**2 - x1**4 - 2*x1**2*x2 - x2**2\n",
    "g = -3*x1**2 - (x1**2 + x2)**2\n",
    "f = 10*x1**2 * (-4*x2**2 + 4*x1*x2 - x1**2)\n",
    "sp.factor(f)"
   ]
  },
  {
   "cell_type": "code",
   "execution_count": null,
   "metadata": {},
   "outputs": [],
   "source": []
  }
 ],
 "metadata": {
  "kernelspec": {
   "display_name": "matlab",
   "language": "python",
   "name": "matlab"
  },
  "language_info": {
   "codemirror_mode": {
    "name": "ipython",
    "version": 3
   },
   "file_extension": ".py",
   "mimetype": "text/x-python",
   "name": "python",
   "nbconvert_exporter": "python",
   "pygments_lexer": "ipython3",
   "version": "3.8.10"
  }
 },
 "nbformat": 4,
 "nbformat_minor": 4
}
